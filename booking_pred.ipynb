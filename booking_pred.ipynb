{
 "cells": [
  {
   "cell_type": "markdown",
   "id": "abc780e0-0628-4b78-a7ec-02c761ede1e7",
   "metadata": {},
   "source": [
    "## The Data\n",
    "\n",
    "They have provided you with their bookings data in a file called `hotel_bookings.csv`, which contains the following:\n",
    "\n",
    "| Column     | Description              |\n",
    "|------------|--------------------------|\n",
    "| `Booking_ID` | Unique identifier of the booking. |\n",
    "| `no_of_adults` | The number of adults. |\n",
    "| `no_of_children` | The number of children. |\n",
    "| `no_of_weekend_nights` | Number of weekend nights (Saturday or Sunday). |\n",
    "| `no_of_week_nights` | Number of week nights (Monday to Friday). |\n",
    "| `type_of_meal_plan` | Type of meal plan included in the booking. |\n",
    "| `required_car_parking_space` | Whether a car parking space is required. |\n",
    "| `room_type_reserved` | The type of room reserved. |\n",
    "| `lead_time` | Number of days before the arrival date the booking was made. |\n",
    "| `arrival_year` | Year of arrival. |\n",
    "| `arrival_month` | Month of arrival. |\n",
    "| `arrival_date` | Date of the month for arrival. |\n",
    "| `market_segment_type` | How the booking was made. |\n",
    "| `repeated_guest` | Whether the guest has previously stayed at the hotel. |\n",
    "| `no_of_previous_cancellations` | Number of previous cancellations. |\n",
    "| `no_of_previous_bookings_not_canceled` | Number of previous bookings that were canceled. |\n",
    "| `avg_price_per_room` | Average price per day of the booking. |\n",
    "| `no_of_special_requests` | Count of special requests made as part of the booking. |\n",
    "| `booking_status` | Whether the booking was cancelled or not. |\n",
    "\n",
    "Source (data has been modified): https://www.kaggle.com/datasets/ahsan81/hotel-reservations-classification-dataset"
   ]
  },
  {
   "cell_type": "markdown",
   "id": "0767d619-adaf-4159-a07f-c92610666c35",
   "metadata": {},
   "source": [
    "## Time is ticking. Good luck! "
   ]
  },
  {
   "cell_type": "code",
   "execution_count": 78,
   "id": "3edbaf5b-07a5-4f2d-85d6-5d40ee70eff9",
   "metadata": {},
   "outputs": [],
   "source": [
    "import pandas as pd\n",
    "import numpy as np\n",
    "import seaborn as sns\n",
    "import matplotlib.pyplot as plt\n",
    "from sklearn import preprocessing\n",
    "from sklearn.metrics import accuracy_score\n",
    "from sklearn.model_selection import train_test_split\n",
    "from sklearn.pipeline import Pipeline, make_pipeline\n",
    "from sklearn.linear_model import LogisticRegression\n",
    "from sklearn.tree import DecisionTreeClassifier, plot_tree"
   ]
  },
  {
   "cell_type": "code",
   "execution_count": 79,
   "id": "10105d72-50ba-4b5f-a807-2d62065c0220",
   "metadata": {
    "outputsMetadata": {
     "0": {
      "height": 563,
      "type": "stream"
     }
    }
   },
   "outputs": [
    {
     "name": "stdout",
     "output_type": "stream",
     "text": [
      "<class 'pandas.core.frame.DataFrame'>\n",
      "RangeIndex: 36275 entries, 0 to 36274\n",
      "Data columns (total 19 columns):\n",
      " #   Column                                Non-Null Count  Dtype  \n",
      "---  ------                                --------------  -----  \n",
      " 0   Booking_ID                            36275 non-null  object \n",
      " 1   no_of_adults                          35862 non-null  float64\n",
      " 2   no_of_children                        35951 non-null  float64\n",
      " 3   no_of_weekend_nights                  35908 non-null  float64\n",
      " 4   no_of_week_nights                     35468 non-null  float64\n",
      " 5   type_of_meal_plan                     35749 non-null  object \n",
      " 6   required_car_parking_space            33683 non-null  float64\n",
      " 7   room_type_reserved                    35104 non-null  object \n",
      " 8   lead_time                             35803 non-null  float64\n",
      " 9   arrival_year                          35897 non-null  float64\n",
      " 10  arrival_month                         35771 non-null  float64\n",
      " 11  arrival_date                          35294 non-null  float64\n",
      " 12  market_segment_type                   34763 non-null  object \n",
      " 13  repeated_guest                        35689 non-null  float64\n",
      " 14  no_of_previous_cancellations          35778 non-null  float64\n",
      " 15  no_of_previous_bookings_not_canceled  35725 non-null  float64\n",
      " 16  avg_price_per_room                    35815 non-null  float64\n",
      " 17  no_of_special_requests                35486 non-null  float64\n",
      " 18  booking_status                        36275 non-null  object \n",
      "dtypes: float64(14), object(5)\n",
      "memory usage: 5.3+ MB\n"
     ]
    }
   ],
   "source": [
    "hotels = pd.read_csv(\"hotel_bookings.csv\")\n",
    "hotels.info()"
   ]
  },
  {
   "cell_type": "code",
   "execution_count": 80,
   "id": "0b116613-04e8-4117-9cbd-276e76130be4",
   "metadata": {},
   "outputs": [
    {
     "data": {
      "text/plain": [
       "(36275, 19)"
      ]
     },
     "execution_count": 80,
     "metadata": {},
     "output_type": "execute_result"
    }
   ],
   "source": [
    "hotels.shape"
   ]
  },
  {
   "cell_type": "code",
   "execution_count": 81,
   "id": "c0db0175-8f4c-4a83-817b-65e2d24ca2d1",
   "metadata": {
    "outputsMetadata": {
     "0": {
      "height": 216,
      "type": "dataFrame"
     }
    }
   },
   "outputs": [
    {
     "data": {
      "text/html": [
       "<div>\n",
       "<style scoped>\n",
       "    .dataframe tbody tr th:only-of-type {\n",
       "        vertical-align: middle;\n",
       "    }\n",
       "\n",
       "    .dataframe tbody tr th {\n",
       "        vertical-align: top;\n",
       "    }\n",
       "\n",
       "    .dataframe thead th {\n",
       "        text-align: right;\n",
       "    }\n",
       "</style>\n",
       "<table border=\"1\" class=\"dataframe\">\n",
       "  <thead>\n",
       "    <tr style=\"text-align: right;\">\n",
       "      <th></th>\n",
       "      <th>Booking_ID</th>\n",
       "      <th>no_of_adults</th>\n",
       "      <th>no_of_children</th>\n",
       "      <th>no_of_weekend_nights</th>\n",
       "      <th>no_of_week_nights</th>\n",
       "      <th>type_of_meal_plan</th>\n",
       "      <th>required_car_parking_space</th>\n",
       "      <th>room_type_reserved</th>\n",
       "      <th>lead_time</th>\n",
       "      <th>arrival_year</th>\n",
       "      <th>arrival_month</th>\n",
       "      <th>arrival_date</th>\n",
       "      <th>market_segment_type</th>\n",
       "      <th>repeated_guest</th>\n",
       "      <th>no_of_previous_cancellations</th>\n",
       "      <th>no_of_previous_bookings_not_canceled</th>\n",
       "      <th>avg_price_per_room</th>\n",
       "      <th>no_of_special_requests</th>\n",
       "      <th>booking_status</th>\n",
       "    </tr>\n",
       "  </thead>\n",
       "  <tbody>\n",
       "    <tr>\n",
       "      <th>0</th>\n",
       "      <td>INN00001</td>\n",
       "      <td>NaN</td>\n",
       "      <td>NaN</td>\n",
       "      <td>NaN</td>\n",
       "      <td>NaN</td>\n",
       "      <td>NaN</td>\n",
       "      <td>NaN</td>\n",
       "      <td>NaN</td>\n",
       "      <td>NaN</td>\n",
       "      <td>NaN</td>\n",
       "      <td>NaN</td>\n",
       "      <td>NaN</td>\n",
       "      <td>NaN</td>\n",
       "      <td>NaN</td>\n",
       "      <td>NaN</td>\n",
       "      <td>NaN</td>\n",
       "      <td>NaN</td>\n",
       "      <td>NaN</td>\n",
       "      <td>Not_Canceled</td>\n",
       "    </tr>\n",
       "    <tr>\n",
       "      <th>1</th>\n",
       "      <td>INN00002</td>\n",
       "      <td>2.0</td>\n",
       "      <td>0.0</td>\n",
       "      <td>2.0</td>\n",
       "      <td>3.0</td>\n",
       "      <td>Not Selected</td>\n",
       "      <td>0.0</td>\n",
       "      <td>Room_Type 1</td>\n",
       "      <td>5.0</td>\n",
       "      <td>2018.0</td>\n",
       "      <td>11.0</td>\n",
       "      <td>6.0</td>\n",
       "      <td>Online</td>\n",
       "      <td>0.0</td>\n",
       "      <td>0.0</td>\n",
       "      <td>0.0</td>\n",
       "      <td>106.68</td>\n",
       "      <td>1.0</td>\n",
       "      <td>Not_Canceled</td>\n",
       "    </tr>\n",
       "    <tr>\n",
       "      <th>2</th>\n",
       "      <td>INN00003</td>\n",
       "      <td>1.0</td>\n",
       "      <td>0.0</td>\n",
       "      <td>2.0</td>\n",
       "      <td>1.0</td>\n",
       "      <td>Meal Plan 1</td>\n",
       "      <td>0.0</td>\n",
       "      <td>Room_Type 1</td>\n",
       "      <td>1.0</td>\n",
       "      <td>2018.0</td>\n",
       "      <td>2.0</td>\n",
       "      <td>28.0</td>\n",
       "      <td>Online</td>\n",
       "      <td>0.0</td>\n",
       "      <td>0.0</td>\n",
       "      <td>0.0</td>\n",
       "      <td>60.00</td>\n",
       "      <td>0.0</td>\n",
       "      <td>Canceled</td>\n",
       "    </tr>\n",
       "    <tr>\n",
       "      <th>3</th>\n",
       "      <td>INN00004</td>\n",
       "      <td>2.0</td>\n",
       "      <td>0.0</td>\n",
       "      <td>0.0</td>\n",
       "      <td>2.0</td>\n",
       "      <td>Meal Plan 1</td>\n",
       "      <td>0.0</td>\n",
       "      <td>Room_Type 1</td>\n",
       "      <td>211.0</td>\n",
       "      <td>2018.0</td>\n",
       "      <td>5.0</td>\n",
       "      <td>20.0</td>\n",
       "      <td>Online</td>\n",
       "      <td>0.0</td>\n",
       "      <td>0.0</td>\n",
       "      <td>0.0</td>\n",
       "      <td>100.00</td>\n",
       "      <td>0.0</td>\n",
       "      <td>Canceled</td>\n",
       "    </tr>\n",
       "    <tr>\n",
       "      <th>4</th>\n",
       "      <td>INN00005</td>\n",
       "      <td>2.0</td>\n",
       "      <td>0.0</td>\n",
       "      <td>1.0</td>\n",
       "      <td>1.0</td>\n",
       "      <td>Not Selected</td>\n",
       "      <td>0.0</td>\n",
       "      <td>Room_Type 1</td>\n",
       "      <td>48.0</td>\n",
       "      <td>2018.0</td>\n",
       "      <td>4.0</td>\n",
       "      <td>11.0</td>\n",
       "      <td>Online</td>\n",
       "      <td>0.0</td>\n",
       "      <td>0.0</td>\n",
       "      <td>0.0</td>\n",
       "      <td>94.50</td>\n",
       "      <td>0.0</td>\n",
       "      <td>Canceled</td>\n",
       "    </tr>\n",
       "  </tbody>\n",
       "</table>\n",
       "</div>"
      ],
      "text/plain": [
       "  Booking_ID  no_of_adults  no_of_children  no_of_weekend_nights  \\\n",
       "0   INN00001           NaN             NaN                   NaN   \n",
       "1   INN00002           2.0             0.0                   2.0   \n",
       "2   INN00003           1.0             0.0                   2.0   \n",
       "3   INN00004           2.0             0.0                   0.0   \n",
       "4   INN00005           2.0             0.0                   1.0   \n",
       "\n",
       "   no_of_week_nights type_of_meal_plan  required_car_parking_space  \\\n",
       "0                NaN               NaN                         NaN   \n",
       "1                3.0      Not Selected                         0.0   \n",
       "2                1.0       Meal Plan 1                         0.0   \n",
       "3                2.0       Meal Plan 1                         0.0   \n",
       "4                1.0      Not Selected                         0.0   \n",
       "\n",
       "  room_type_reserved  lead_time  arrival_year  arrival_month  arrival_date  \\\n",
       "0                NaN        NaN           NaN            NaN           NaN   \n",
       "1        Room_Type 1        5.0        2018.0           11.0           6.0   \n",
       "2        Room_Type 1        1.0        2018.0            2.0          28.0   \n",
       "3        Room_Type 1      211.0        2018.0            5.0          20.0   \n",
       "4        Room_Type 1       48.0        2018.0            4.0          11.0   \n",
       "\n",
       "  market_segment_type  repeated_guest  no_of_previous_cancellations  \\\n",
       "0                 NaN             NaN                           NaN   \n",
       "1              Online             0.0                           0.0   \n",
       "2              Online             0.0                           0.0   \n",
       "3              Online             0.0                           0.0   \n",
       "4              Online             0.0                           0.0   \n",
       "\n",
       "   no_of_previous_bookings_not_canceled  avg_price_per_room  \\\n",
       "0                                   NaN                 NaN   \n",
       "1                                   0.0              106.68   \n",
       "2                                   0.0               60.00   \n",
       "3                                   0.0              100.00   \n",
       "4                                   0.0               94.50   \n",
       "\n",
       "   no_of_special_requests booking_status  \n",
       "0                     NaN   Not_Canceled  \n",
       "1                     1.0   Not_Canceled  \n",
       "2                     0.0       Canceled  \n",
       "3                     0.0       Canceled  \n",
       "4                     0.0       Canceled  "
      ]
     },
     "execution_count": 81,
     "metadata": {},
     "output_type": "execute_result"
    }
   ],
   "source": [
    "hotels.head()"
   ]
  },
  {
   "cell_type": "markdown",
   "id": "602ec171-dc64-4e53-a707-663b76b399c5",
   "metadata": {},
   "source": [
    "**Observations**\n",
    "\n",
    "- Hotel bookings file contains 14 floats and 5 objects dataypes. some of which needs to be converted to **int** datatype because the values in somes of the columns are discreet and not continuous values.\n",
    "\n",
    "- The file contains 36275 rows and 19 columns.\n",
    "\n",
    "- Printing few rows of hotel booking file I noticed Booking_ID was considered as a separate column, hence it will be set as index."
   ]
  },
  {
   "cell_type": "code",
   "execution_count": 82,
   "id": "cf393c45-9ac4-46b1-b3a8-c56216be29a4",
   "metadata": {},
   "outputs": [],
   "source": [
    "hotels = hotels.set_index('Booking_ID')"
   ]
  },
  {
   "cell_type": "code",
   "execution_count": 83,
   "id": "5ca6ef45-bcc6-4e9f-bf36-22c63318331f",
   "metadata": {
    "outputsMetadata": {
     "0": {
      "height": 216,
      "type": "dataFrame"
     }
    }
   },
   "outputs": [
    {
     "data": {
      "text/html": [
       "<div>\n",
       "<style scoped>\n",
       "    .dataframe tbody tr th:only-of-type {\n",
       "        vertical-align: middle;\n",
       "    }\n",
       "\n",
       "    .dataframe tbody tr th {\n",
       "        vertical-align: top;\n",
       "    }\n",
       "\n",
       "    .dataframe thead th {\n",
       "        text-align: right;\n",
       "    }\n",
       "</style>\n",
       "<table border=\"1\" class=\"dataframe\">\n",
       "  <thead>\n",
       "    <tr style=\"text-align: right;\">\n",
       "      <th></th>\n",
       "      <th>no_of_adults</th>\n",
       "      <th>no_of_children</th>\n",
       "      <th>no_of_weekend_nights</th>\n",
       "      <th>no_of_week_nights</th>\n",
       "      <th>type_of_meal_plan</th>\n",
       "      <th>required_car_parking_space</th>\n",
       "      <th>room_type_reserved</th>\n",
       "      <th>lead_time</th>\n",
       "      <th>arrival_year</th>\n",
       "      <th>arrival_month</th>\n",
       "      <th>arrival_date</th>\n",
       "      <th>market_segment_type</th>\n",
       "      <th>repeated_guest</th>\n",
       "      <th>no_of_previous_cancellations</th>\n",
       "      <th>no_of_previous_bookings_not_canceled</th>\n",
       "      <th>avg_price_per_room</th>\n",
       "      <th>no_of_special_requests</th>\n",
       "      <th>booking_status</th>\n",
       "    </tr>\n",
       "    <tr>\n",
       "      <th>Booking_ID</th>\n",
       "      <th></th>\n",
       "      <th></th>\n",
       "      <th></th>\n",
       "      <th></th>\n",
       "      <th></th>\n",
       "      <th></th>\n",
       "      <th></th>\n",
       "      <th></th>\n",
       "      <th></th>\n",
       "      <th></th>\n",
       "      <th></th>\n",
       "      <th></th>\n",
       "      <th></th>\n",
       "      <th></th>\n",
       "      <th></th>\n",
       "      <th></th>\n",
       "      <th></th>\n",
       "      <th></th>\n",
       "    </tr>\n",
       "  </thead>\n",
       "  <tbody>\n",
       "    <tr>\n",
       "      <th>INN00001</th>\n",
       "      <td>NaN</td>\n",
       "      <td>NaN</td>\n",
       "      <td>NaN</td>\n",
       "      <td>NaN</td>\n",
       "      <td>NaN</td>\n",
       "      <td>NaN</td>\n",
       "      <td>NaN</td>\n",
       "      <td>NaN</td>\n",
       "      <td>NaN</td>\n",
       "      <td>NaN</td>\n",
       "      <td>NaN</td>\n",
       "      <td>NaN</td>\n",
       "      <td>NaN</td>\n",
       "      <td>NaN</td>\n",
       "      <td>NaN</td>\n",
       "      <td>NaN</td>\n",
       "      <td>NaN</td>\n",
       "      <td>Not_Canceled</td>\n",
       "    </tr>\n",
       "    <tr>\n",
       "      <th>INN00002</th>\n",
       "      <td>2.0</td>\n",
       "      <td>0.0</td>\n",
       "      <td>2.0</td>\n",
       "      <td>3.0</td>\n",
       "      <td>Not Selected</td>\n",
       "      <td>0.0</td>\n",
       "      <td>Room_Type 1</td>\n",
       "      <td>5.0</td>\n",
       "      <td>2018.0</td>\n",
       "      <td>11.0</td>\n",
       "      <td>6.0</td>\n",
       "      <td>Online</td>\n",
       "      <td>0.0</td>\n",
       "      <td>0.0</td>\n",
       "      <td>0.0</td>\n",
       "      <td>106.68</td>\n",
       "      <td>1.0</td>\n",
       "      <td>Not_Canceled</td>\n",
       "    </tr>\n",
       "    <tr>\n",
       "      <th>INN00003</th>\n",
       "      <td>1.0</td>\n",
       "      <td>0.0</td>\n",
       "      <td>2.0</td>\n",
       "      <td>1.0</td>\n",
       "      <td>Meal Plan 1</td>\n",
       "      <td>0.0</td>\n",
       "      <td>Room_Type 1</td>\n",
       "      <td>1.0</td>\n",
       "      <td>2018.0</td>\n",
       "      <td>2.0</td>\n",
       "      <td>28.0</td>\n",
       "      <td>Online</td>\n",
       "      <td>0.0</td>\n",
       "      <td>0.0</td>\n",
       "      <td>0.0</td>\n",
       "      <td>60.00</td>\n",
       "      <td>0.0</td>\n",
       "      <td>Canceled</td>\n",
       "    </tr>\n",
       "    <tr>\n",
       "      <th>INN00004</th>\n",
       "      <td>2.0</td>\n",
       "      <td>0.0</td>\n",
       "      <td>0.0</td>\n",
       "      <td>2.0</td>\n",
       "      <td>Meal Plan 1</td>\n",
       "      <td>0.0</td>\n",
       "      <td>Room_Type 1</td>\n",
       "      <td>211.0</td>\n",
       "      <td>2018.0</td>\n",
       "      <td>5.0</td>\n",
       "      <td>20.0</td>\n",
       "      <td>Online</td>\n",
       "      <td>0.0</td>\n",
       "      <td>0.0</td>\n",
       "      <td>0.0</td>\n",
       "      <td>100.00</td>\n",
       "      <td>0.0</td>\n",
       "      <td>Canceled</td>\n",
       "    </tr>\n",
       "    <tr>\n",
       "      <th>INN00005</th>\n",
       "      <td>2.0</td>\n",
       "      <td>0.0</td>\n",
       "      <td>1.0</td>\n",
       "      <td>1.0</td>\n",
       "      <td>Not Selected</td>\n",
       "      <td>0.0</td>\n",
       "      <td>Room_Type 1</td>\n",
       "      <td>48.0</td>\n",
       "      <td>2018.0</td>\n",
       "      <td>4.0</td>\n",
       "      <td>11.0</td>\n",
       "      <td>Online</td>\n",
       "      <td>0.0</td>\n",
       "      <td>0.0</td>\n",
       "      <td>0.0</td>\n",
       "      <td>94.50</td>\n",
       "      <td>0.0</td>\n",
       "      <td>Canceled</td>\n",
       "    </tr>\n",
       "  </tbody>\n",
       "</table>\n",
       "</div>"
      ],
      "text/plain": [
       "            no_of_adults  no_of_children  no_of_weekend_nights  \\\n",
       "Booking_ID                                                       \n",
       "INN00001             NaN             NaN                   NaN   \n",
       "INN00002             2.0             0.0                   2.0   \n",
       "INN00003             1.0             0.0                   2.0   \n",
       "INN00004             2.0             0.0                   0.0   \n",
       "INN00005             2.0             0.0                   1.0   \n",
       "\n",
       "            no_of_week_nights type_of_meal_plan  required_car_parking_space  \\\n",
       "Booking_ID                                                                    \n",
       "INN00001                  NaN               NaN                         NaN   \n",
       "INN00002                  3.0      Not Selected                         0.0   \n",
       "INN00003                  1.0       Meal Plan 1                         0.0   \n",
       "INN00004                  2.0       Meal Plan 1                         0.0   \n",
       "INN00005                  1.0      Not Selected                         0.0   \n",
       "\n",
       "           room_type_reserved  lead_time  arrival_year  arrival_month  \\\n",
       "Booking_ID                                                              \n",
       "INN00001                  NaN        NaN           NaN            NaN   \n",
       "INN00002          Room_Type 1        5.0        2018.0           11.0   \n",
       "INN00003          Room_Type 1        1.0        2018.0            2.0   \n",
       "INN00004          Room_Type 1      211.0        2018.0            5.0   \n",
       "INN00005          Room_Type 1       48.0        2018.0            4.0   \n",
       "\n",
       "            arrival_date market_segment_type  repeated_guest  \\\n",
       "Booking_ID                                                     \n",
       "INN00001             NaN                 NaN             NaN   \n",
       "INN00002             6.0              Online             0.0   \n",
       "INN00003            28.0              Online             0.0   \n",
       "INN00004            20.0              Online             0.0   \n",
       "INN00005            11.0              Online             0.0   \n",
       "\n",
       "            no_of_previous_cancellations  \\\n",
       "Booking_ID                                 \n",
       "INN00001                             NaN   \n",
       "INN00002                             0.0   \n",
       "INN00003                             0.0   \n",
       "INN00004                             0.0   \n",
       "INN00005                             0.0   \n",
       "\n",
       "            no_of_previous_bookings_not_canceled  avg_price_per_room  \\\n",
       "Booking_ID                                                             \n",
       "INN00001                                     NaN                 NaN   \n",
       "INN00002                                     0.0              106.68   \n",
       "INN00003                                     0.0               60.00   \n",
       "INN00004                                     0.0              100.00   \n",
       "INN00005                                     0.0               94.50   \n",
       "\n",
       "            no_of_special_requests booking_status  \n",
       "Booking_ID                                         \n",
       "INN00001                       NaN   Not_Canceled  \n",
       "INN00002                       1.0   Not_Canceled  \n",
       "INN00003                       0.0       Canceled  \n",
       "INN00004                       0.0       Canceled  \n",
       "INN00005                       0.0       Canceled  "
      ]
     },
     "execution_count": 83,
     "metadata": {},
     "output_type": "execute_result"
    }
   ],
   "source": [
    "hotels.head()"
   ]
  },
  {
   "cell_type": "code",
   "execution_count": 84,
   "id": "0107295a-92a1-4ddd-97fd-308ec9af564a",
   "metadata": {},
   "outputs": [
    {
     "data": {
      "text/plain": [
       "no_of_adults                             413\n",
       "no_of_children                           324\n",
       "no_of_weekend_nights                     367\n",
       "no_of_week_nights                        807\n",
       "type_of_meal_plan                        526\n",
       "required_car_parking_space              2592\n",
       "room_type_reserved                      1171\n",
       "lead_time                                472\n",
       "arrival_year                             378\n",
       "arrival_month                            504\n",
       "arrival_date                             981\n",
       "market_segment_type                     1512\n",
       "repeated_guest                           586\n",
       "no_of_previous_cancellations             497\n",
       "no_of_previous_bookings_not_canceled     550\n",
       "avg_price_per_room                       460\n",
       "no_of_special_requests                   789\n",
       "booking_status                             0\n",
       "dtype: int64"
      ]
     },
     "execution_count": 84,
     "metadata": {},
     "output_type": "execute_result"
    }
   ],
   "source": [
    "hotels.isna().sum()"
   ]
  },
  {
   "cell_type": "markdown",
   "id": "fed9b60b-5be1-4aee-a0ae-20a5dd7325f8",
   "metadata": {},
   "source": [
    "Few data are missing in each columns"
   ]
  },
  {
   "cell_type": "code",
   "execution_count": 85,
   "id": "1c52011a-b792-4fbd-a664-87e85cd3238e",
   "metadata": {},
   "outputs": [],
   "source": [
    "#drop missing data\n",
    "hotels.dropna(inplace=True)"
   ]
  },
  {
   "cell_type": "code",
   "execution_count": 86,
   "id": "697dd971-4139-40ef-a944-0cd34cc1268d",
   "metadata": {},
   "outputs": [],
   "source": [
    "#Datatype conversion\n",
    "\n",
    "hotels = hotels.astype({\"no_of_adults\": int, \"no_of_children\": int, \"no_of_weekend_nights\": int, \"no_of_weekend_nights\": int, \"no_of_week_nights\": int, \"lead_time\": int, \"arrival_year\": int, \"arrival_date\": int, \"repeated_guest\": int, \"no_of_previous_cancellations\": int, \"no_of_previous_bookings_not_canceled\": int, \"no_of_special_requests\": int})"
   ]
  },
  {
   "cell_type": "code",
   "execution_count": 87,
   "id": "31a9869e-9552-4f83-bb34-4659909bc5ea",
   "metadata": {},
   "outputs": [],
   "source": [
    "hotels['arrival_month'] = hotels['arrival_month'].replace([1.0, 2.0, 3.0, 4.0, 5.0, 6.0, 7.0, 8.0, 9.0, 10.0, 11.0, 12.0], ['Jan', 'Feb', 'Mar', 'Apr', 'May', 'Jun', 'Jul', 'Aug', 'Sep', 'Oct', 'Nov', 'Dec']).astype(object)"
   ]
  },
  {
   "cell_type": "code",
   "execution_count": 88,
   "id": "4ff7cf81-1e2f-47f3-ae57-925a19a41ad2",
   "metadata": {},
   "outputs": [
    {
     "data": {
      "text/plain": [
       "arrival_month\n",
       "Oct    4046\n",
       "Sep    3494\n",
       "Aug    2873\n",
       "Jun    2475\n",
       "Dec    2277\n",
       "Nov    2251\n",
       "Jul    2216\n",
       "Apr    2075\n",
       "May    1991\n",
       "Mar    1779\n",
       "Feb    1266\n",
       "Jan     768\n",
       "Name: count, dtype: int64"
      ]
     },
     "execution_count": 88,
     "metadata": {},
     "output_type": "execute_result"
    }
   ],
   "source": [
    "hotels['arrival_month'].value_counts()"
   ]
  },
  {
   "cell_type": "code",
   "execution_count": 89,
   "id": "25e600de-8395-4e9c-8baa-482de07f1619",
   "metadata": {},
   "outputs": [
    {
     "name": "stderr",
     "output_type": "stream",
     "text": [
      "C:\\Users\\User\\AppData\\Local\\Temp\\ipykernel_8124\\3522428241.py:1: FutureWarning: Downcasting behavior in `replace` is deprecated and will be removed in a future version. To retain the old behavior, explicitly call `result.infer_objects(copy=False)`. To opt-in to the future behavior, set `pd.set_option('future.no_silent_downcasting', True)`\n",
      "  hotels['booking_status'] = hotels['booking_status'].replace(['Not_Canceled', 'Canceled'], [0, 1]).astype(int)\n"
     ]
    }
   ],
   "source": [
    "hotels['booking_status'] = hotels['booking_status'].replace(['Not_Canceled', 'Canceled'], [0, 1]).astype(int)"
   ]
  },
  {
   "cell_type": "code",
   "execution_count": 90,
   "id": "a9629941-2916-460b-8ac6-3757ebe437b9",
   "metadata": {
    "outputsMetadata": {
     "0": {
      "height": 542,
      "type": "stream"
     }
    }
   },
   "outputs": [
    {
     "name": "stdout",
     "output_type": "stream",
     "text": [
      "<class 'pandas.core.frame.DataFrame'>\n",
      "Index: 27511 entries, INN00002 to INN36274\n",
      "Data columns (total 18 columns):\n",
      " #   Column                                Non-Null Count  Dtype  \n",
      "---  ------                                --------------  -----  \n",
      " 0   no_of_adults                          27511 non-null  int32  \n",
      " 1   no_of_children                        27511 non-null  int32  \n",
      " 2   no_of_weekend_nights                  27511 non-null  int32  \n",
      " 3   no_of_week_nights                     27511 non-null  int32  \n",
      " 4   type_of_meal_plan                     27511 non-null  object \n",
      " 5   required_car_parking_space            27511 non-null  float64\n",
      " 6   room_type_reserved                    27511 non-null  object \n",
      " 7   lead_time                             27511 non-null  int32  \n",
      " 8   arrival_year                          27511 non-null  int32  \n",
      " 9   arrival_month                         27511 non-null  object \n",
      " 10  arrival_date                          27511 non-null  int32  \n",
      " 11  market_segment_type                   27511 non-null  object \n",
      " 12  repeated_guest                        27511 non-null  int32  \n",
      " 13  no_of_previous_cancellations          27511 non-null  int32  \n",
      " 14  no_of_previous_bookings_not_canceled  27511 non-null  int32  \n",
      " 15  avg_price_per_room                    27511 non-null  float64\n",
      " 16  no_of_special_requests                27511 non-null  int32  \n",
      " 17  booking_status                        27511 non-null  int32  \n",
      "dtypes: float64(2), int32(12), object(4)\n",
      "memory usage: 2.7+ MB\n"
     ]
    }
   ],
   "source": [
    "hotels.info()"
   ]
  },
  {
   "cell_type": "markdown",
   "id": "e6ea5c87-7aae-4549-b45a-12867d6cf2a9",
   "metadata": {},
   "source": [
    "**Changes I made**\n",
    "\n",
    "\n",
    "- I dropped all missing rows\n",
    "- I did datatype conversion on some columns\n",
    "- Instead of having numbers in the arrival columns, I replaced each month number with appropriate month name and it can be seen that most customers arrive in october while least customers arrive in january \n",
    "- I replaced Not canceled and Canceled in 'booking_status' columns with 0 and 1 so as to perform some computation"
   ]
  },
  {
   "cell_type": "code",
   "execution_count": 91,
   "id": "4619fc7d-d0c7-4edc-8ad8-3b6cd21bf0c1",
   "metadata": {},
   "outputs": [
    {
     "data": {
      "text/plain": [
       "type_of_meal_plan       4\n",
       "room_type_reserved      7\n",
       "arrival_month          12\n",
       "market_segment_type     5\n",
       "dtype: int64"
      ]
     },
     "execution_count": 91,
     "metadata": {},
     "output_type": "execute_result"
    }
   ],
   "source": [
    "hotels.select_dtypes(object).nunique()"
   ]
  },
  {
   "cell_type": "markdown",
   "id": "f85f2f63-b245-4ed8-8b9b-3905b3d88d5a",
   "metadata": {},
   "source": [
    "**Observations**\n",
    "\n",
    "- There are four different types of meal plan\n",
    "- There are seven different types of 'room_type_reserved'\n",
    "- 12 distinct arrival month\n",
    "- 5 unique market segment type\n"
   ]
  },
  {
   "cell_type": "markdown",
   "id": "267d2a89-819c-4724-a6dc-51e538c1bea6",
   "metadata": {},
   "source": [
    "Lets take a look at object datatypes"
   ]
  },
  {
   "cell_type": "code",
   "execution_count": 92,
   "id": "f3febe27-2c13-4565-a722-726806eb5dbf",
   "metadata": {
    "outputsMetadata": {
     "0": {
      "height": 197,
      "type": "dataFrame"
     }
    }
   },
   "outputs": [
    {
     "data": {
      "text/html": [
       "<div>\n",
       "<style scoped>\n",
       "    .dataframe tbody tr th:only-of-type {\n",
       "        vertical-align: middle;\n",
       "    }\n",
       "\n",
       "    .dataframe tbody tr th {\n",
       "        vertical-align: top;\n",
       "    }\n",
       "\n",
       "    .dataframe thead th {\n",
       "        text-align: right;\n",
       "    }\n",
       "</style>\n",
       "<table border=\"1\" class=\"dataframe\">\n",
       "  <thead>\n",
       "    <tr style=\"text-align: right;\">\n",
       "      <th></th>\n",
       "      <th>type_of_meal_plan</th>\n",
       "      <th>room_type_reserved</th>\n",
       "      <th>arrival_month</th>\n",
       "      <th>market_segment_type</th>\n",
       "    </tr>\n",
       "    <tr>\n",
       "      <th>Booking_ID</th>\n",
       "      <th></th>\n",
       "      <th></th>\n",
       "      <th></th>\n",
       "      <th></th>\n",
       "    </tr>\n",
       "  </thead>\n",
       "  <tbody>\n",
       "    <tr>\n",
       "      <th>INN00002</th>\n",
       "      <td>Not Selected</td>\n",
       "      <td>Room_Type 1</td>\n",
       "      <td>Nov</td>\n",
       "      <td>Online</td>\n",
       "    </tr>\n",
       "    <tr>\n",
       "      <th>INN00003</th>\n",
       "      <td>Meal Plan 1</td>\n",
       "      <td>Room_Type 1</td>\n",
       "      <td>Feb</td>\n",
       "      <td>Online</td>\n",
       "    </tr>\n",
       "    <tr>\n",
       "      <th>INN00004</th>\n",
       "      <td>Meal Plan 1</td>\n",
       "      <td>Room_Type 1</td>\n",
       "      <td>May</td>\n",
       "      <td>Online</td>\n",
       "    </tr>\n",
       "    <tr>\n",
       "      <th>INN00005</th>\n",
       "      <td>Not Selected</td>\n",
       "      <td>Room_Type 1</td>\n",
       "      <td>Apr</td>\n",
       "      <td>Online</td>\n",
       "    </tr>\n",
       "    <tr>\n",
       "      <th>INN00006</th>\n",
       "      <td>Meal Plan 2</td>\n",
       "      <td>Room_Type 1</td>\n",
       "      <td>Sep</td>\n",
       "      <td>Online</td>\n",
       "    </tr>\n",
       "  </tbody>\n",
       "</table>\n",
       "</div>"
      ],
      "text/plain": [
       "           type_of_meal_plan room_type_reserved arrival_month  \\\n",
       "Booking_ID                                                      \n",
       "INN00002        Not Selected        Room_Type 1           Nov   \n",
       "INN00003         Meal Plan 1        Room_Type 1           Feb   \n",
       "INN00004         Meal Plan 1        Room_Type 1           May   \n",
       "INN00005        Not Selected        Room_Type 1           Apr   \n",
       "INN00006         Meal Plan 2        Room_Type 1           Sep   \n",
       "\n",
       "           market_segment_type  \n",
       "Booking_ID                      \n",
       "INN00002                Online  \n",
       "INN00003                Online  \n",
       "INN00004                Online  \n",
       "INN00005                Online  \n",
       "INN00006                Online  "
      ]
     },
     "execution_count": 92,
     "metadata": {},
     "output_type": "execute_result"
    }
   ],
   "source": [
    "hotels.select_dtypes(object).head()\n",
    "\n"
   ]
  },
  {
   "cell_type": "code",
   "execution_count": 93,
   "id": "014ee158-9bf2-447a-be4e-fe15bf688a7a",
   "metadata": {
    "outputsMetadata": {
     "0": {
      "height": 172,
      "type": "dataFrame"
     }
    }
   },
   "outputs": [
    {
     "data": {
      "text/html": [
       "<div>\n",
       "<style scoped>\n",
       "    .dataframe tbody tr th:only-of-type {\n",
       "        vertical-align: middle;\n",
       "    }\n",
       "\n",
       "    .dataframe tbody tr th {\n",
       "        vertical-align: top;\n",
       "    }\n",
       "\n",
       "    .dataframe thead th {\n",
       "        text-align: right;\n",
       "    }\n",
       "</style>\n",
       "<table border=\"1\" class=\"dataframe\">\n",
       "  <thead>\n",
       "    <tr style=\"text-align: right;\">\n",
       "      <th></th>\n",
       "      <th>type_of_meal_plan</th>\n",
       "      <th>room_type_reserved</th>\n",
       "      <th>arrival_month</th>\n",
       "      <th>market_segment_type</th>\n",
       "    </tr>\n",
       "  </thead>\n",
       "  <tbody>\n",
       "    <tr>\n",
       "      <th>count</th>\n",
       "      <td>27511</td>\n",
       "      <td>27511</td>\n",
       "      <td>27511</td>\n",
       "      <td>27511</td>\n",
       "    </tr>\n",
       "    <tr>\n",
       "      <th>unique</th>\n",
       "      <td>4</td>\n",
       "      <td>7</td>\n",
       "      <td>12</td>\n",
       "      <td>5</td>\n",
       "    </tr>\n",
       "    <tr>\n",
       "      <th>top</th>\n",
       "      <td>Meal Plan 1</td>\n",
       "      <td>Room_Type 1</td>\n",
       "      <td>Oct</td>\n",
       "      <td>Online</td>\n",
       "    </tr>\n",
       "    <tr>\n",
       "      <th>freq</th>\n",
       "      <td>21161</td>\n",
       "      <td>21320</td>\n",
       "      <td>4046</td>\n",
       "      <td>17599</td>\n",
       "    </tr>\n",
       "  </tbody>\n",
       "</table>\n",
       "</div>"
      ],
      "text/plain": [
       "       type_of_meal_plan room_type_reserved arrival_month market_segment_type\n",
       "count              27511              27511         27511               27511\n",
       "unique                 4                  7            12                   5\n",
       "top          Meal Plan 1        Room_Type 1           Oct              Online\n",
       "freq               21161              21320          4046               17599"
      ]
     },
     "execution_count": 93,
     "metadata": {},
     "output_type": "execute_result"
    }
   ],
   "source": [
    "hotels.select_dtypes(include=object).describe()"
   ]
  },
  {
   "cell_type": "markdown",
   "id": "fa634667-8ff5-4d9a-bf09-f336249d2bd0",
   "metadata": {},
   "source": [
    "**Observation**\n",
    "\n",
    "- Meal plan 1 is the most frequent ordered type of meal plan\n",
    "- Room type 1 is also the most frequent booked \"room_type_reserved\"\n",
    "- Customers arrive mostly in Octber\n",
    "- Most of the booking was made online"
   ]
  },
  {
   "cell_type": "code",
   "execution_count": 94,
   "id": "5c03d5c9-aba4-4af9-8226-6af8f9c4fb13",
   "metadata": {},
   "outputs": [
    {
     "data": {
      "text/plain": [
       "no_of_adults                               5\n",
       "no_of_children                             6\n",
       "no_of_weekend_nights                       7\n",
       "no_of_week_nights                         18\n",
       "required_car_parking_space                 2\n",
       "lead_time                                347\n",
       "arrival_year                               2\n",
       "arrival_date                              31\n",
       "repeated_guest                             2\n",
       "no_of_previous_cancellations               9\n",
       "no_of_previous_bookings_not_canceled      58\n",
       "avg_price_per_room                      3411\n",
       "no_of_special_requests                     6\n",
       "booking_status                             2\n",
       "dtype: int64"
      ]
     },
     "execution_count": 94,
     "metadata": {},
     "output_type": "execute_result"
    }
   ],
   "source": [
    "hotels.select_dtypes('number').nunique()"
   ]
  },
  {
   "cell_type": "code",
   "execution_count": 95,
   "id": "2b0357de-bbae-4ee9-8226-2d62a05b19f6",
   "metadata": {
    "outputsMetadata": {
     "0": {
      "height": 216,
      "type": "dataFrame"
     }
    }
   },
   "outputs": [
    {
     "data": {
      "text/html": [
       "<div>\n",
       "<style scoped>\n",
       "    .dataframe tbody tr th:only-of-type {\n",
       "        vertical-align: middle;\n",
       "    }\n",
       "\n",
       "    .dataframe tbody tr th {\n",
       "        vertical-align: top;\n",
       "    }\n",
       "\n",
       "    .dataframe thead th {\n",
       "        text-align: right;\n",
       "    }\n",
       "</style>\n",
       "<table border=\"1\" class=\"dataframe\">\n",
       "  <thead>\n",
       "    <tr style=\"text-align: right;\">\n",
       "      <th></th>\n",
       "      <th>no_of_adults</th>\n",
       "      <th>no_of_children</th>\n",
       "      <th>no_of_weekend_nights</th>\n",
       "      <th>no_of_week_nights</th>\n",
       "      <th>required_car_parking_space</th>\n",
       "      <th>lead_time</th>\n",
       "      <th>arrival_year</th>\n",
       "      <th>arrival_date</th>\n",
       "      <th>repeated_guest</th>\n",
       "      <th>no_of_previous_cancellations</th>\n",
       "      <th>no_of_previous_bookings_not_canceled</th>\n",
       "      <th>avg_price_per_room</th>\n",
       "      <th>no_of_special_requests</th>\n",
       "      <th>booking_status</th>\n",
       "    </tr>\n",
       "    <tr>\n",
       "      <th>Booking_ID</th>\n",
       "      <th></th>\n",
       "      <th></th>\n",
       "      <th></th>\n",
       "      <th></th>\n",
       "      <th></th>\n",
       "      <th></th>\n",
       "      <th></th>\n",
       "      <th></th>\n",
       "      <th></th>\n",
       "      <th></th>\n",
       "      <th></th>\n",
       "      <th></th>\n",
       "      <th></th>\n",
       "      <th></th>\n",
       "    </tr>\n",
       "  </thead>\n",
       "  <tbody>\n",
       "    <tr>\n",
       "      <th>INN00002</th>\n",
       "      <td>2</td>\n",
       "      <td>0</td>\n",
       "      <td>2</td>\n",
       "      <td>3</td>\n",
       "      <td>0.0</td>\n",
       "      <td>5</td>\n",
       "      <td>2018</td>\n",
       "      <td>6</td>\n",
       "      <td>0</td>\n",
       "      <td>0</td>\n",
       "      <td>0</td>\n",
       "      <td>106.68</td>\n",
       "      <td>1</td>\n",
       "      <td>0</td>\n",
       "    </tr>\n",
       "    <tr>\n",
       "      <th>INN00003</th>\n",
       "      <td>1</td>\n",
       "      <td>0</td>\n",
       "      <td>2</td>\n",
       "      <td>1</td>\n",
       "      <td>0.0</td>\n",
       "      <td>1</td>\n",
       "      <td>2018</td>\n",
       "      <td>28</td>\n",
       "      <td>0</td>\n",
       "      <td>0</td>\n",
       "      <td>0</td>\n",
       "      <td>60.00</td>\n",
       "      <td>0</td>\n",
       "      <td>1</td>\n",
       "    </tr>\n",
       "    <tr>\n",
       "      <th>INN00004</th>\n",
       "      <td>2</td>\n",
       "      <td>0</td>\n",
       "      <td>0</td>\n",
       "      <td>2</td>\n",
       "      <td>0.0</td>\n",
       "      <td>211</td>\n",
       "      <td>2018</td>\n",
       "      <td>20</td>\n",
       "      <td>0</td>\n",
       "      <td>0</td>\n",
       "      <td>0</td>\n",
       "      <td>100.00</td>\n",
       "      <td>0</td>\n",
       "      <td>1</td>\n",
       "    </tr>\n",
       "    <tr>\n",
       "      <th>INN00005</th>\n",
       "      <td>2</td>\n",
       "      <td>0</td>\n",
       "      <td>1</td>\n",
       "      <td>1</td>\n",
       "      <td>0.0</td>\n",
       "      <td>48</td>\n",
       "      <td>2018</td>\n",
       "      <td>11</td>\n",
       "      <td>0</td>\n",
       "      <td>0</td>\n",
       "      <td>0</td>\n",
       "      <td>94.50</td>\n",
       "      <td>0</td>\n",
       "      <td>1</td>\n",
       "    </tr>\n",
       "    <tr>\n",
       "      <th>INN00006</th>\n",
       "      <td>2</td>\n",
       "      <td>0</td>\n",
       "      <td>0</td>\n",
       "      <td>2</td>\n",
       "      <td>0.0</td>\n",
       "      <td>346</td>\n",
       "      <td>2018</td>\n",
       "      <td>13</td>\n",
       "      <td>0</td>\n",
       "      <td>0</td>\n",
       "      <td>0</td>\n",
       "      <td>115.00</td>\n",
       "      <td>1</td>\n",
       "      <td>1</td>\n",
       "    </tr>\n",
       "  </tbody>\n",
       "</table>\n",
       "</div>"
      ],
      "text/plain": [
       "            no_of_adults  no_of_children  no_of_weekend_nights  \\\n",
       "Booking_ID                                                       \n",
       "INN00002               2               0                     2   \n",
       "INN00003               1               0                     2   \n",
       "INN00004               2               0                     0   \n",
       "INN00005               2               0                     1   \n",
       "INN00006               2               0                     0   \n",
       "\n",
       "            no_of_week_nights  required_car_parking_space  lead_time  \\\n",
       "Booking_ID                                                             \n",
       "INN00002                    3                         0.0          5   \n",
       "INN00003                    1                         0.0          1   \n",
       "INN00004                    2                         0.0        211   \n",
       "INN00005                    1                         0.0         48   \n",
       "INN00006                    2                         0.0        346   \n",
       "\n",
       "            arrival_year  arrival_date  repeated_guest  \\\n",
       "Booking_ID                                               \n",
       "INN00002            2018             6               0   \n",
       "INN00003            2018            28               0   \n",
       "INN00004            2018            20               0   \n",
       "INN00005            2018            11               0   \n",
       "INN00006            2018            13               0   \n",
       "\n",
       "            no_of_previous_cancellations  \\\n",
       "Booking_ID                                 \n",
       "INN00002                               0   \n",
       "INN00003                               0   \n",
       "INN00004                               0   \n",
       "INN00005                               0   \n",
       "INN00006                               0   \n",
       "\n",
       "            no_of_previous_bookings_not_canceled  avg_price_per_room  \\\n",
       "Booking_ID                                                             \n",
       "INN00002                                       0              106.68   \n",
       "INN00003                                       0               60.00   \n",
       "INN00004                                       0              100.00   \n",
       "INN00005                                       0               94.50   \n",
       "INN00006                                       0              115.00   \n",
       "\n",
       "            no_of_special_requests  booking_status  \n",
       "Booking_ID                                          \n",
       "INN00002                         1               0  \n",
       "INN00003                         0               1  \n",
       "INN00004                         0               1  \n",
       "INN00005                         0               1  \n",
       "INN00006                         1               1  "
      ]
     },
     "execution_count": 95,
     "metadata": {},
     "output_type": "execute_result"
    }
   ],
   "source": [
    "hotels.select_dtypes('number').head()"
   ]
  },
  {
   "cell_type": "code",
   "execution_count": 96,
   "id": "7a0acd32-62e1-443c-9b5c-6c5ce6f8e8d5",
   "metadata": {
    "outputsMetadata": {
     "0": {
      "height": 291,
      "type": "dataFrame"
     }
    }
   },
   "outputs": [
    {
     "data": {
      "text/html": [
       "<div>\n",
       "<style scoped>\n",
       "    .dataframe tbody tr th:only-of-type {\n",
       "        vertical-align: middle;\n",
       "    }\n",
       "\n",
       "    .dataframe tbody tr th {\n",
       "        vertical-align: top;\n",
       "    }\n",
       "\n",
       "    .dataframe thead th {\n",
       "        text-align: right;\n",
       "    }\n",
       "</style>\n",
       "<table border=\"1\" class=\"dataframe\">\n",
       "  <thead>\n",
       "    <tr style=\"text-align: right;\">\n",
       "      <th></th>\n",
       "      <th>no_of_adults</th>\n",
       "      <th>no_of_children</th>\n",
       "      <th>no_of_weekend_nights</th>\n",
       "      <th>no_of_week_nights</th>\n",
       "      <th>required_car_parking_space</th>\n",
       "      <th>lead_time</th>\n",
       "      <th>arrival_year</th>\n",
       "      <th>arrival_date</th>\n",
       "      <th>repeated_guest</th>\n",
       "      <th>no_of_previous_cancellations</th>\n",
       "      <th>no_of_previous_bookings_not_canceled</th>\n",
       "      <th>avg_price_per_room</th>\n",
       "      <th>no_of_special_requests</th>\n",
       "      <th>booking_status</th>\n",
       "    </tr>\n",
       "  </thead>\n",
       "  <tbody>\n",
       "    <tr>\n",
       "      <th>count</th>\n",
       "      <td>27511.000000</td>\n",
       "      <td>27511.000000</td>\n",
       "      <td>27511.000000</td>\n",
       "      <td>27511.000000</td>\n",
       "      <td>27511.000000</td>\n",
       "      <td>27511.000000</td>\n",
       "      <td>27511.000000</td>\n",
       "      <td>27511.000000</td>\n",
       "      <td>27511.000000</td>\n",
       "      <td>27511.000000</td>\n",
       "      <td>27511.000000</td>\n",
       "      <td>27511.000000</td>\n",
       "      <td>27511.000000</td>\n",
       "      <td>27511.000000</td>\n",
       "    </tr>\n",
       "    <tr>\n",
       "      <th>mean</th>\n",
       "      <td>1.845153</td>\n",
       "      <td>0.105558</td>\n",
       "      <td>0.813347</td>\n",
       "      <td>2.203119</td>\n",
       "      <td>0.031188</td>\n",
       "      <td>85.286467</td>\n",
       "      <td>2017.821162</td>\n",
       "      <td>15.584675</td>\n",
       "      <td>0.026171</td>\n",
       "      <td>0.024790</td>\n",
       "      <td>0.163571</td>\n",
       "      <td>103.538728</td>\n",
       "      <td>0.619607</td>\n",
       "      <td>0.327505</td>\n",
       "    </tr>\n",
       "    <tr>\n",
       "      <th>std</th>\n",
       "      <td>0.517605</td>\n",
       "      <td>0.407020</td>\n",
       "      <td>0.870882</td>\n",
       "      <td>1.407811</td>\n",
       "      <td>0.173827</td>\n",
       "      <td>86.098013</td>\n",
       "      <td>0.383223</td>\n",
       "      <td>8.732747</td>\n",
       "      <td>0.159648</td>\n",
       "      <td>0.381654</td>\n",
       "      <td>1.872857</td>\n",
       "      <td>35.217580</td>\n",
       "      <td>0.784811</td>\n",
       "      <td>0.469312</td>\n",
       "    </tr>\n",
       "    <tr>\n",
       "      <th>min</th>\n",
       "      <td>0.000000</td>\n",
       "      <td>0.000000</td>\n",
       "      <td>0.000000</td>\n",
       "      <td>0.000000</td>\n",
       "      <td>0.000000</td>\n",
       "      <td>0.000000</td>\n",
       "      <td>2017.000000</td>\n",
       "      <td>1.000000</td>\n",
       "      <td>0.000000</td>\n",
       "      <td>0.000000</td>\n",
       "      <td>0.000000</td>\n",
       "      <td>0.000000</td>\n",
       "      <td>0.000000</td>\n",
       "      <td>0.000000</td>\n",
       "    </tr>\n",
       "    <tr>\n",
       "      <th>25%</th>\n",
       "      <td>2.000000</td>\n",
       "      <td>0.000000</td>\n",
       "      <td>0.000000</td>\n",
       "      <td>1.000000</td>\n",
       "      <td>0.000000</td>\n",
       "      <td>17.000000</td>\n",
       "      <td>2018.000000</td>\n",
       "      <td>8.000000</td>\n",
       "      <td>0.000000</td>\n",
       "      <td>0.000000</td>\n",
       "      <td>0.000000</td>\n",
       "      <td>80.750000</td>\n",
       "      <td>0.000000</td>\n",
       "      <td>0.000000</td>\n",
       "    </tr>\n",
       "    <tr>\n",
       "      <th>50%</th>\n",
       "      <td>2.000000</td>\n",
       "      <td>0.000000</td>\n",
       "      <td>1.000000</td>\n",
       "      <td>2.000000</td>\n",
       "      <td>0.000000</td>\n",
       "      <td>57.000000</td>\n",
       "      <td>2018.000000</td>\n",
       "      <td>16.000000</td>\n",
       "      <td>0.000000</td>\n",
       "      <td>0.000000</td>\n",
       "      <td>0.000000</td>\n",
       "      <td>99.450000</td>\n",
       "      <td>0.000000</td>\n",
       "      <td>0.000000</td>\n",
       "    </tr>\n",
       "    <tr>\n",
       "      <th>75%</th>\n",
       "      <td>2.000000</td>\n",
       "      <td>0.000000</td>\n",
       "      <td>2.000000</td>\n",
       "      <td>3.000000</td>\n",
       "      <td>0.000000</td>\n",
       "      <td>127.000000</td>\n",
       "      <td>2018.000000</td>\n",
       "      <td>23.000000</td>\n",
       "      <td>0.000000</td>\n",
       "      <td>0.000000</td>\n",
       "      <td>0.000000</td>\n",
       "      <td>120.280000</td>\n",
       "      <td>1.000000</td>\n",
       "      <td>1.000000</td>\n",
       "    </tr>\n",
       "    <tr>\n",
       "      <th>max</th>\n",
       "      <td>4.000000</td>\n",
       "      <td>10.000000</td>\n",
       "      <td>6.000000</td>\n",
       "      <td>17.000000</td>\n",
       "      <td>1.000000</td>\n",
       "      <td>443.000000</td>\n",
       "      <td>2018.000000</td>\n",
       "      <td>31.000000</td>\n",
       "      <td>1.000000</td>\n",
       "      <td>13.000000</td>\n",
       "      <td>58.000000</td>\n",
       "      <td>540.000000</td>\n",
       "      <td>5.000000</td>\n",
       "      <td>1.000000</td>\n",
       "    </tr>\n",
       "  </tbody>\n",
       "</table>\n",
       "</div>"
      ],
      "text/plain": [
       "       no_of_adults  no_of_children  no_of_weekend_nights  no_of_week_nights  \\\n",
       "count  27511.000000    27511.000000          27511.000000       27511.000000   \n",
       "mean       1.845153        0.105558              0.813347           2.203119   \n",
       "std        0.517605        0.407020              0.870882           1.407811   \n",
       "min        0.000000        0.000000              0.000000           0.000000   \n",
       "25%        2.000000        0.000000              0.000000           1.000000   \n",
       "50%        2.000000        0.000000              1.000000           2.000000   \n",
       "75%        2.000000        0.000000              2.000000           3.000000   \n",
       "max        4.000000       10.000000              6.000000          17.000000   \n",
       "\n",
       "       required_car_parking_space     lead_time  arrival_year  arrival_date  \\\n",
       "count                27511.000000  27511.000000  27511.000000  27511.000000   \n",
       "mean                     0.031188     85.286467   2017.821162     15.584675   \n",
       "std                      0.173827     86.098013      0.383223      8.732747   \n",
       "min                      0.000000      0.000000   2017.000000      1.000000   \n",
       "25%                      0.000000     17.000000   2018.000000      8.000000   \n",
       "50%                      0.000000     57.000000   2018.000000     16.000000   \n",
       "75%                      0.000000    127.000000   2018.000000     23.000000   \n",
       "max                      1.000000    443.000000   2018.000000     31.000000   \n",
       "\n",
       "       repeated_guest  no_of_previous_cancellations  \\\n",
       "count    27511.000000                  27511.000000   \n",
       "mean         0.026171                      0.024790   \n",
       "std          0.159648                      0.381654   \n",
       "min          0.000000                      0.000000   \n",
       "25%          0.000000                      0.000000   \n",
       "50%          0.000000                      0.000000   \n",
       "75%          0.000000                      0.000000   \n",
       "max          1.000000                     13.000000   \n",
       "\n",
       "       no_of_previous_bookings_not_canceled  avg_price_per_room  \\\n",
       "count                          27511.000000        27511.000000   \n",
       "mean                               0.163571          103.538728   \n",
       "std                                1.872857           35.217580   \n",
       "min                                0.000000            0.000000   \n",
       "25%                                0.000000           80.750000   \n",
       "50%                                0.000000           99.450000   \n",
       "75%                                0.000000          120.280000   \n",
       "max                               58.000000          540.000000   \n",
       "\n",
       "       no_of_special_requests  booking_status  \n",
       "count            27511.000000    27511.000000  \n",
       "mean                 0.619607        0.327505  \n",
       "std                  0.784811        0.469312  \n",
       "min                  0.000000        0.000000  \n",
       "25%                  0.000000        0.000000  \n",
       "50%                  0.000000        0.000000  \n",
       "75%                  1.000000        1.000000  \n",
       "max                  5.000000        1.000000  "
      ]
     },
     "execution_count": 96,
     "metadata": {},
     "output_type": "execute_result"
    }
   ],
   "source": [
    "hotels.select_dtypes(include='number').describe()"
   ]
  },
  {
   "cell_type": "markdown",
   "id": "6f47db5b-e522-4fe3-a51a-c403061c65d4",
   "metadata": {},
   "source": [
    "**Observations**\n",
    "\n",
    "- Minimum of 0 adult made a booking i.e it is possible that no booking was made by adult and also, Maximum no. of 4 adults made a booking i.e atmost 4 adults made a booking(one booking), it can be less than but not more than according to Hotel booking csv file\n",
    "\n",
    "\n",
    "- No of Children also has minimum of 0 and Maximum of 10.\n",
    "- The average price paid for a room is 103.5387...\n",
    "- On an average 33% of customers canceled their booking\n",
    "- The mean of previous cancellation is approximately 2.5% "
   ]
  },
  {
   "cell_type": "code",
   "execution_count": 97,
   "id": "549c70e8-b97a-405e-99b6-d77411183e1a",
   "metadata": {},
   "outputs": [
    {
     "data": {
      "text/plain": [
       "no_of_previous_cancellations\n",
       "6         1\n",
       "13        4\n",
       "4        10\n",
       "5        11\n",
       "11       19\n",
       "3        32\n",
       "2        33\n",
       "1       158\n",
       "0     27243\n",
       "Name: count, dtype: int64"
      ]
     },
     "execution_count": 97,
     "metadata": {},
     "output_type": "execute_result"
    }
   ],
   "source": [
    "hotels['no_of_previous_cancellations'].value_counts().sort_values()"
   ]
  },
  {
   "cell_type": "markdown",
   "id": "84c3297f-8df9-4229-b621-d9b72dc8a084",
   "metadata": {},
   "source": [
    "Here, it can be seen that 0 cancellation was made by 27243 customers while the highest cancellation which is 13 was made 4 customers, with distinct booking Id."
   ]
  },
  {
   "cell_type": "code",
   "execution_count": 98,
   "id": "aae0b4b3-c1f1-4ecb-85c7-6a215fa9832c",
   "metadata": {
    "outputsMetadata": {
     "0": {
      "height": 297,
      "type": "dataFrame"
     }
    }
   },
   "outputs": [
    {
     "data": {
      "text/html": [
       "<div>\n",
       "<style scoped>\n",
       "    .dataframe tbody tr th:only-of-type {\n",
       "        vertical-align: middle;\n",
       "    }\n",
       "\n",
       "    .dataframe tbody tr th {\n",
       "        vertical-align: top;\n",
       "    }\n",
       "\n",
       "    .dataframe thead th {\n",
       "        text-align: right;\n",
       "    }\n",
       "</style>\n",
       "<table border=\"1\" class=\"dataframe\">\n",
       "  <thead>\n",
       "    <tr style=\"text-align: right;\">\n",
       "      <th>col_0</th>\n",
       "      <th>count</th>\n",
       "    </tr>\n",
       "    <tr>\n",
       "      <th>no_of_previous_cancellations</th>\n",
       "      <th></th>\n",
       "    </tr>\n",
       "  </thead>\n",
       "  <tbody>\n",
       "    <tr>\n",
       "      <th>0</th>\n",
       "      <td>99.025844</td>\n",
       "    </tr>\n",
       "    <tr>\n",
       "      <th>1</th>\n",
       "      <td>0.574316</td>\n",
       "    </tr>\n",
       "    <tr>\n",
       "      <th>2</th>\n",
       "      <td>0.119952</td>\n",
       "    </tr>\n",
       "    <tr>\n",
       "      <th>3</th>\n",
       "      <td>0.116317</td>\n",
       "    </tr>\n",
       "    <tr>\n",
       "      <th>4</th>\n",
       "      <td>0.036349</td>\n",
       "    </tr>\n",
       "    <tr>\n",
       "      <th>5</th>\n",
       "      <td>0.039984</td>\n",
       "    </tr>\n",
       "    <tr>\n",
       "      <th>6</th>\n",
       "      <td>0.003635</td>\n",
       "    </tr>\n",
       "    <tr>\n",
       "      <th>11</th>\n",
       "      <td>0.069063</td>\n",
       "    </tr>\n",
       "    <tr>\n",
       "      <th>13</th>\n",
       "      <td>0.014540</td>\n",
       "    </tr>\n",
       "  </tbody>\n",
       "</table>\n",
       "</div>"
      ],
      "text/plain": [
       "col_0                             count\n",
       "no_of_previous_cancellations           \n",
       "0                             99.025844\n",
       "1                              0.574316\n",
       "2                              0.119952\n",
       "3                              0.116317\n",
       "4                              0.036349\n",
       "5                              0.039984\n",
       "6                              0.003635\n",
       "11                             0.069063\n",
       "13                             0.014540"
      ]
     },
     "execution_count": 98,
     "metadata": {},
     "output_type": "execute_result"
    }
   ],
   "source": [
    "pd.crosstab(index=hotels['no_of_previous_cancellations'],columns='count',normalize=True)*100"
   ]
  },
  {
   "cell_type": "markdown",
   "id": "1bac23bc-fb36-453e-8a99-a5a776f4570d",
   "metadata": {},
   "source": [
    "99% of bookings has 0 previous cancellation while 0.015% has 13 cancellation"
   ]
  },
  {
   "cell_type": "code",
   "execution_count": 99,
   "id": "aeb325b1-9a16-4da1-93d9-4030621b4250",
   "metadata": {
    "outputsMetadata": {
     "0": {
      "height": 322,
      "type": "dataFrame"
     }
    }
   },
   "outputs": [
    {
     "data": {
      "text/html": [
       "<div>\n",
       "<style scoped>\n",
       "    .dataframe tbody tr th:only-of-type {\n",
       "        vertical-align: middle;\n",
       "    }\n",
       "\n",
       "    .dataframe tbody tr th {\n",
       "        vertical-align: top;\n",
       "    }\n",
       "\n",
       "    .dataframe thead th {\n",
       "        text-align: right;\n",
       "    }\n",
       "</style>\n",
       "<table border=\"1\" class=\"dataframe\">\n",
       "  <thead>\n",
       "    <tr style=\"text-align: right;\">\n",
       "      <th>booking_status</th>\n",
       "      <th>0</th>\n",
       "      <th>1</th>\n",
       "      <th>All</th>\n",
       "    </tr>\n",
       "    <tr>\n",
       "      <th>no_of_previous_cancellations</th>\n",
       "      <th></th>\n",
       "      <th></th>\n",
       "      <th></th>\n",
       "    </tr>\n",
       "  </thead>\n",
       "  <tbody>\n",
       "    <tr>\n",
       "      <th>0</th>\n",
       "      <td>0.663117</td>\n",
       "      <td>0.327142</td>\n",
       "      <td>0.990258</td>\n",
       "    </tr>\n",
       "    <tr>\n",
       "      <th>1</th>\n",
       "      <td>0.005525</td>\n",
       "      <td>0.000218</td>\n",
       "      <td>0.005743</td>\n",
       "    </tr>\n",
       "    <tr>\n",
       "      <th>2</th>\n",
       "      <td>0.001200</td>\n",
       "      <td>0.000000</td>\n",
       "      <td>0.001200</td>\n",
       "    </tr>\n",
       "    <tr>\n",
       "      <th>3</th>\n",
       "      <td>0.001163</td>\n",
       "      <td>0.000000</td>\n",
       "      <td>0.001163</td>\n",
       "    </tr>\n",
       "    <tr>\n",
       "      <th>4</th>\n",
       "      <td>0.000363</td>\n",
       "      <td>0.000000</td>\n",
       "      <td>0.000363</td>\n",
       "    </tr>\n",
       "    <tr>\n",
       "      <th>5</th>\n",
       "      <td>0.000400</td>\n",
       "      <td>0.000000</td>\n",
       "      <td>0.000400</td>\n",
       "    </tr>\n",
       "    <tr>\n",
       "      <th>6</th>\n",
       "      <td>0.000036</td>\n",
       "      <td>0.000000</td>\n",
       "      <td>0.000036</td>\n",
       "    </tr>\n",
       "    <tr>\n",
       "      <th>11</th>\n",
       "      <td>0.000691</td>\n",
       "      <td>0.000000</td>\n",
       "      <td>0.000691</td>\n",
       "    </tr>\n",
       "    <tr>\n",
       "      <th>13</th>\n",
       "      <td>0.000000</td>\n",
       "      <td>0.000145</td>\n",
       "      <td>0.000145</td>\n",
       "    </tr>\n",
       "    <tr>\n",
       "      <th>All</th>\n",
       "      <td>0.672495</td>\n",
       "      <td>0.327505</td>\n",
       "      <td>1.000000</td>\n",
       "    </tr>\n",
       "  </tbody>\n",
       "</table>\n",
       "</div>"
      ],
      "text/plain": [
       "booking_status                       0         1       All\n",
       "no_of_previous_cancellations                              \n",
       "0                             0.663117  0.327142  0.990258\n",
       "1                             0.005525  0.000218  0.005743\n",
       "2                             0.001200  0.000000  0.001200\n",
       "3                             0.001163  0.000000  0.001163\n",
       "4                             0.000363  0.000000  0.000363\n",
       "5                             0.000400  0.000000  0.000400\n",
       "6                             0.000036  0.000000  0.000036\n",
       "11                            0.000691  0.000000  0.000691\n",
       "13                            0.000000  0.000145  0.000145\n",
       "All                           0.672495  0.327505  1.000000"
      ]
     },
     "execution_count": 99,
     "metadata": {},
     "output_type": "execute_result"
    }
   ],
   "source": [
    "pd.crosstab(index=hotels['no_of_previous_cancellations'],columns=hotels['booking_status'],normalize=True,margins=True)"
   ]
  },
  {
   "cell_type": "markdown",
   "id": "65a66ed3-d4c7-416b-b9d5-2e3bc74410c9",
   "metadata": {},
   "source": [
    "**Observation**\n",
    "\n",
    "For 0 previous cancellation\n",
    "Chances that bookings will not be canceled is 66.3% and,\n",
    "Chances that booking will be cancelled is 32.7 i.e it is possible that 32.7% of customers that made 0 previous cancellation will canceled their current booking.\n",
    "\n",
    "2, 3, 4, 5, and 6 previous cancellation have chances of not being canceled (even though the chances are small) \n",
    "\n",
    "\n",
    "1 previous cancellation has small chances of Not being canceled and being canceled and  13 previous cancelation has  0 chances of not being canceled and and 0.00015 of being cancelledn i.e there is 0.00015 chances that 4 customers with distinct id  that made 13 previous cancellation will also cancel their current booking\n"
   ]
  },
  {
   "cell_type": "code",
   "execution_count": 100,
   "id": "19c9acf8-afec-4f94-8365-710f84868d8b",
   "metadata": {},
   "outputs": [
    {
     "data": {
      "image/png": "[encoded data removed]",
      "text/plain": [
       "<Figure size 640x480 with 1 Axes>"
      ]
     },
     "metadata": {},
     "output_type": "display_data"
    }
   ],
   "source": [
    "hotels[\"no_of_previous_cancellations\"].value_counts(normalize=True).plot(kind='bar')\n",
    "plt.title(\"Number of Previous Cancellation [Count]\");\n"
   ]
  },
  {
   "cell_type": "code",
   "execution_count": 101,
   "id": "45eecead-8432-4643-9034-6100ccdbeb77",
   "metadata": {},
   "outputs": [
    {
     "data": {
      "image/png": "[encoded data removed]",
      "text/plain": [
       "<Figure size 640x480 with 1 Axes>"
      ]
     },
     "metadata": {},
     "output_type": "display_data"
    }
   ],
   "source": [
    "sns.barplot(x=hotels['booking_status'].unique(), y=hotels['booking_status'].value_counts(normalize=True))\n",
    "plt.xlabel(\"Booking Status\")\n",
    "plt.ylabel(\"Booking Status [Count]\");"
   ]
  },
  {
   "cell_type": "markdown",
   "id": "9266a44e-16eb-44a9-90af-4572602db36a",
   "metadata": {},
   "source": [
    "**Observation**\n",
    "\n",
    "Approximately 33% of bookings where canceled and 67% were not canceled"
   ]
  },
  {
   "cell_type": "code",
   "execution_count": 102,
   "id": "dc681994-cbf4-431c-a87d-a09c8abb920e",
   "metadata": {},
   "outputs": [
    {
     "data": {
      "image/png": "[encoded data removed]",
      "text/plain": [
       "<Figure size 640x480 with 1 Axes>"
      ]
     },
     "metadata": {},
     "output_type": "display_data"
    }
   ],
   "source": [
    "sns.barplot(x='booking_status', y='no_of_previous_cancellations', errorbar=None, data=hotels);"
   ]
  },
  {
   "cell_type": "markdown",
   "id": "c95ddbec-0b2d-454c-8f6a-486154c9ab9c",
   "metadata": {},
   "source": [
    "Around 7% of customers that made previous cancellation, also canceled their bookings"
   ]
  },
  {
   "cell_type": "code",
   "execution_count": 103,
   "id": "892f790f-af94-46d1-8c1d-49c1ddaa6ce2",
   "metadata": {},
   "outputs": [
    {
     "data": {
      "text/html": [
       "<div>\n",
       "<style scoped>\n",
       "    .dataframe tbody tr th:only-of-type {\n",
       "        vertical-align: middle;\n",
       "    }\n",
       "\n",
       "    .dataframe tbody tr th {\n",
       "        vertical-align: top;\n",
       "    }\n",
       "\n",
       "    .dataframe thead th {\n",
       "        text-align: right;\n",
       "    }\n",
       "</style>\n",
       "<table border=\"1\" class=\"dataframe\">\n",
       "  <thead>\n",
       "    <tr style=\"text-align: right;\">\n",
       "      <th></th>\n",
       "      <th>no_of_previous_cancellation</th>\n",
       "    </tr>\n",
       "    <tr>\n",
       "      <th>arrival_month</th>\n",
       "      <th></th>\n",
       "    </tr>\n",
       "  </thead>\n",
       "  <tbody>\n",
       "    <tr>\n",
       "      <th>Jan</th>\n",
       "      <td>0.253906</td>\n",
       "    </tr>\n",
       "    <tr>\n",
       "      <th>Feb</th>\n",
       "      <td>0.042654</td>\n",
       "    </tr>\n",
       "    <tr>\n",
       "      <th>Dec</th>\n",
       "      <td>0.032499</td>\n",
       "    </tr>\n",
       "    <tr>\n",
       "      <th>Apr</th>\n",
       "      <td>0.029398</td>\n",
       "    </tr>\n",
       "    <tr>\n",
       "      <th>Nov</th>\n",
       "      <td>0.020880</td>\n",
       "    </tr>\n",
       "    <tr>\n",
       "      <th>Oct</th>\n",
       "      <td>0.020514</td>\n",
       "    </tr>\n",
       "    <tr>\n",
       "      <th>May</th>\n",
       "      <td>0.017077</td>\n",
       "    </tr>\n",
       "    <tr>\n",
       "      <th>Sep</th>\n",
       "      <td>0.016600</td>\n",
       "    </tr>\n",
       "    <tr>\n",
       "      <th>Jul</th>\n",
       "      <td>0.013087</td>\n",
       "    </tr>\n",
       "    <tr>\n",
       "      <th>Mar</th>\n",
       "      <td>0.010118</td>\n",
       "    </tr>\n",
       "    <tr>\n",
       "      <th>Jun</th>\n",
       "      <td>0.008081</td>\n",
       "    </tr>\n",
       "    <tr>\n",
       "      <th>Aug</th>\n",
       "      <td>0.003133</td>\n",
       "    </tr>\n",
       "  </tbody>\n",
       "</table>\n",
       "</div>"
      ],
      "text/plain": [
       "               no_of_previous_cancellation\n",
       "arrival_month                             \n",
       "Jan                               0.253906\n",
       "Feb                               0.042654\n",
       "Dec                               0.032499\n",
       "Apr                               0.029398\n",
       "Nov                               0.020880\n",
       "Oct                               0.020514\n",
       "May                               0.017077\n",
       "Sep                               0.016600\n",
       "Jul                               0.013087\n",
       "Mar                               0.010118\n",
       "Jun                               0.008081\n",
       "Aug                               0.003133"
      ]
     },
     "execution_count": 103,
     "metadata": {},
     "output_type": "execute_result"
    }
   ],
   "source": [
    "average_cancellation_per_customer= hotels.groupby(\"arrival_month\")['no_of_previous_cancellations'].mean().to_frame()\n",
    "\n",
    "average_cancellation_per_customer.columns= [\"no_of_previous_cancellation\"]\n",
    "\n",
    "average_cancellation_per_customer.sort_values(by='no_of_previous_cancellation', ascending=False, inplace=True,)\n",
    "\n",
    "\n",
    "average_cancellation_per_customer"
   ]
  },
  {
   "cell_type": "code",
   "execution_count": 104,
   "id": "3cb4c0f6-3e3f-4712-a35f-6a18780b7ac3",
   "metadata": {},
   "outputs": [
    {
     "data": {
      "image/png": "[encoded data removed]",
      "text/plain": [
       "<Figure size 640x480 with 1 Axes>"
      ]
     },
     "metadata": {},
     "output_type": "display_data"
    }
   ],
   "source": [
    "average_cancellation_per_customer[:5].plot(kind='bar', color='teal')\n",
    "plt.show()"
   ]
  },
  {
   "cell_type": "markdown",
   "id": "a7b4ae66-b576-478e-b262-8c9b44f13ee5",
   "metadata": {},
   "source": [
    "Highest previous cancellation happens in month of  January"
   ]
  },
  {
   "cell_type": "code",
   "execution_count": 105,
   "id": "d1e50c46-f764-44c7-a66a-972d06177ac0",
   "metadata": {},
   "outputs": [
    {
     "data": {
      "image/png": "[encoded data removed]",
      "text/plain": [
       "<Figure size 640x480 with 1 Axes>"
      ]
     },
     "metadata": {},
     "output_type": "display_data"
    }
   ],
   "source": [
    "average_cancellation_per_customer[6:].plot(kind='bar', color='teal')\n",
    "plt.show()"
   ]
  },
  {
   "cell_type": "markdown",
   "id": "c81d5b51-4400-4c9f-a058-ed36f8b9c79f",
   "metadata": {},
   "source": [
    "The Least previous cancellation happens in the month of August"
   ]
  },
  {
   "cell_type": "code",
   "execution_count": 106,
   "id": "25d720d0-f9a2-4441-9419-1eedf7bab37d",
   "metadata": {},
   "outputs": [
    {
     "data": {
      "text/html": [
       "<div>\n",
       "<style scoped>\n",
       "    .dataframe tbody tr th:only-of-type {\n",
       "        vertical-align: middle;\n",
       "    }\n",
       "\n",
       "    .dataframe tbody tr th {\n",
       "        vertical-align: top;\n",
       "    }\n",
       "\n",
       "    .dataframe thead th {\n",
       "        text-align: right;\n",
       "    }\n",
       "</style>\n",
       "<table border=\"1\" class=\"dataframe\">\n",
       "  <thead>\n",
       "    <tr style=\"text-align: right;\">\n",
       "      <th>col_0</th>\n",
       "      <th>count</th>\n",
       "    </tr>\n",
       "    <tr>\n",
       "      <th>no_of_adults</th>\n",
       "      <th></th>\n",
       "    </tr>\n",
       "  </thead>\n",
       "  <tbody>\n",
       "    <tr>\n",
       "      <th>0</th>\n",
       "      <td>0.003744</td>\n",
       "    </tr>\n",
       "    <tr>\n",
       "      <th>1</th>\n",
       "      <td>0.211770</td>\n",
       "    </tr>\n",
       "    <tr>\n",
       "      <th>2</th>\n",
       "      <td>0.720439</td>\n",
       "    </tr>\n",
       "    <tr>\n",
       "      <th>3</th>\n",
       "      <td>0.063684</td>\n",
       "    </tr>\n",
       "    <tr>\n",
       "      <th>4</th>\n",
       "      <td>0.000363</td>\n",
       "    </tr>\n",
       "  </tbody>\n",
       "</table>\n",
       "</div>"
      ],
      "text/plain": [
       "col_0            count\n",
       "no_of_adults          \n",
       "0             0.003744\n",
       "1             0.211770\n",
       "2             0.720439\n",
       "3             0.063684\n",
       "4             0.000363"
      ]
     },
     "execution_count": 106,
     "metadata": {},
     "output_type": "execute_result"
    }
   ],
   "source": [
    "pd.crosstab(index=hotels['no_of_adults'],columns='count',normalize=True)"
   ]
  },
  {
   "cell_type": "code",
   "execution_count": 107,
   "id": "a4f79b2f-bccb-48d1-8d72-9c2aeb2ff166",
   "metadata": {},
   "outputs": [
    {
     "data": {
      "text/html": [
       "<div>\n",
       "<style scoped>\n",
       "    .dataframe tbody tr th:only-of-type {\n",
       "        vertical-align: middle;\n",
       "    }\n",
       "\n",
       "    .dataframe tbody tr th {\n",
       "        vertical-align: top;\n",
       "    }\n",
       "\n",
       "    .dataframe thead th {\n",
       "        text-align: right;\n",
       "    }\n",
       "</style>\n",
       "<table border=\"1\" class=\"dataframe\">\n",
       "  <thead>\n",
       "    <tr style=\"text-align: right;\">\n",
       "      <th>booking_status</th>\n",
       "      <th>0</th>\n",
       "      <th>1</th>\n",
       "      <th>All</th>\n",
       "    </tr>\n",
       "    <tr>\n",
       "      <th>no_of_adults</th>\n",
       "      <th></th>\n",
       "      <th></th>\n",
       "      <th></th>\n",
       "    </tr>\n",
       "  </thead>\n",
       "  <tbody>\n",
       "    <tr>\n",
       "      <th>0</th>\n",
       "      <td>0.002508</td>\n",
       "      <td>0.001236</td>\n",
       "      <td>0.003744</td>\n",
       "    </tr>\n",
       "    <tr>\n",
       "      <th>1</th>\n",
       "      <td>0.161317</td>\n",
       "      <td>0.050453</td>\n",
       "      <td>0.211770</td>\n",
       "    </tr>\n",
       "    <tr>\n",
       "      <th>2</th>\n",
       "      <td>0.468613</td>\n",
       "      <td>0.251827</td>\n",
       "      <td>0.720439</td>\n",
       "    </tr>\n",
       "    <tr>\n",
       "      <th>3</th>\n",
       "      <td>0.039802</td>\n",
       "      <td>0.023881</td>\n",
       "      <td>0.063684</td>\n",
       "    </tr>\n",
       "    <tr>\n",
       "      <th>4</th>\n",
       "      <td>0.000254</td>\n",
       "      <td>0.000109</td>\n",
       "      <td>0.000363</td>\n",
       "    </tr>\n",
       "    <tr>\n",
       "      <th>All</th>\n",
       "      <td>0.672495</td>\n",
       "      <td>0.327505</td>\n",
       "      <td>1.000000</td>\n",
       "    </tr>\n",
       "  </tbody>\n",
       "</table>\n",
       "</div>"
      ],
      "text/plain": [
       "booking_status         0         1       All\n",
       "no_of_adults                                \n",
       "0               0.002508  0.001236  0.003744\n",
       "1               0.161317  0.050453  0.211770\n",
       "2               0.468613  0.251827  0.720439\n",
       "3               0.039802  0.023881  0.063684\n",
       "4               0.000254  0.000109  0.000363\n",
       "All             0.672495  0.327505  1.000000"
      ]
     },
     "execution_count": 107,
     "metadata": {},
     "output_type": "execute_result"
    }
   ],
   "source": [
    "pd.crosstab(index=hotels['no_of_adults'],columns=hotels['booking_status'],normalize=True,margins=True)"
   ]
  },
  {
   "cell_type": "markdown",
   "id": "bfbd124c-fb23-4ae4-a8a5-0e128c2fa4a6",
   "metadata": {},
   "source": [
    "**Observations**\n",
    "\n",
    "0 and 4 adults have less than 1% probaility of making a booking\n",
    "\n",
    "2 adults has the highest chance of making a booking which is approximately 72%, followed by 3 adults which has 21% and then 3 adults have 6.4% chances of makin a booking.\n",
    "\n",
    "\n",
    "**For 1 adult**\n",
    "- the likelyhood of booking being canceled is 25.2%\n",
    "- and the likelyhood of booking not canceled is 46.9%\n",
    "\n",
    "\n",
    "\n",
    "**For 2 adults**\n",
    "- the likelyhood of booking being canceled is 5.0%\n",
    "- and the likelyhood of booking not canceled is 16%\n",
    "\n",
    "\n",
    "\n",
    "**For 3 adults**\n",
    "- the likelyhood of booking being canceled is 2.39%\n",
    "- and the likelyhood of booking not canceled is 3.98%\n",
    "\n",
    "\n",
    "\n",
    "**For 4 adults**\n",
    "- the likelyhood of canceled and not canceled is less than 1%"
   ]
  },
  {
   "cell_type": "markdown",
   "id": "279607b7-0e19-4068-b036-88a3bd444497",
   "metadata": {},
   "source": []
  },
  {
   "cell_type": "markdown",
   "id": "37076f16-67ee-4e34-a615-111ea6f4b1a4",
   "metadata": {},
   "source": [
    "**Observation**\n",
    "\n",
    "\n"
   ]
  },
  {
   "cell_type": "markdown",
   "id": "f367198a-2abb-40fd-8626-0b9ee5d4c4aa",
   "metadata": {},
   "source": [
    "I checked if there's relationship between adults and children i.e if most adult that made a booking go with children"
   ]
  },
  {
   "cell_type": "code",
   "execution_count": 108,
   "id": "883bbb5f-a278-4328-9b4c-6b290fc708dc",
   "metadata": {},
   "outputs": [
    {
     "data": {
      "text/html": [
       "<div>\n",
       "<style scoped>\n",
       "    .dataframe tbody tr th:only-of-type {\n",
       "        vertical-align: middle;\n",
       "    }\n",
       "\n",
       "    .dataframe tbody tr th {\n",
       "        vertical-align: top;\n",
       "    }\n",
       "\n",
       "    .dataframe thead th {\n",
       "        text-align: right;\n",
       "    }\n",
       "</style>\n",
       "<table border=\"1\" class=\"dataframe\">\n",
       "  <thead>\n",
       "    <tr style=\"text-align: right;\">\n",
       "      <th>col_0</th>\n",
       "      <th>count</th>\n",
       "    </tr>\n",
       "    <tr>\n",
       "      <th>no_of_children</th>\n",
       "      <th></th>\n",
       "    </tr>\n",
       "  </thead>\n",
       "  <tbody>\n",
       "    <tr>\n",
       "      <th>0</th>\n",
       "      <td>0.926139</td>\n",
       "    </tr>\n",
       "    <tr>\n",
       "      <th>1</th>\n",
       "      <td>0.043546</td>\n",
       "    </tr>\n",
       "    <tr>\n",
       "      <th>2</th>\n",
       "      <td>0.029625</td>\n",
       "    </tr>\n",
       "    <tr>\n",
       "      <th>3</th>\n",
       "      <td>0.000582</td>\n",
       "    </tr>\n",
       "    <tr>\n",
       "      <th>9</th>\n",
       "      <td>0.000073</td>\n",
       "    </tr>\n",
       "    <tr>\n",
       "      <th>10</th>\n",
       "      <td>0.000036</td>\n",
       "    </tr>\n",
       "  </tbody>\n",
       "</table>\n",
       "</div>"
      ],
      "text/plain": [
       "col_0              count\n",
       "no_of_children          \n",
       "0               0.926139\n",
       "1               0.043546\n",
       "2               0.029625\n",
       "3               0.000582\n",
       "9               0.000073\n",
       "10              0.000036"
      ]
     },
     "execution_count": 108,
     "metadata": {},
     "output_type": "execute_result"
    }
   ],
   "source": [
    "pd.crosstab(index=hotels['no_of_children'],columns='count',normalize=True)"
   ]
  },
  {
   "cell_type": "code",
   "execution_count": 109,
   "id": "e0ee4bbb-8bb1-4693-86e2-8d32e6ba623e",
   "metadata": {},
   "outputs": [
    {
     "data": {
      "text/html": [
       "<div>\n",
       "<style scoped>\n",
       "    .dataframe tbody tr th:only-of-type {\n",
       "        vertical-align: middle;\n",
       "    }\n",
       "\n",
       "    .dataframe tbody tr th {\n",
       "        vertical-align: top;\n",
       "    }\n",
       "\n",
       "    .dataframe thead th {\n",
       "        text-align: right;\n",
       "    }\n",
       "</style>\n",
       "<table border=\"1\" class=\"dataframe\">\n",
       "  <thead>\n",
       "    <tr style=\"text-align: right;\">\n",
       "      <th>no_of_adults</th>\n",
       "      <th>0</th>\n",
       "      <th>1</th>\n",
       "      <th>2</th>\n",
       "      <th>3</th>\n",
       "      <th>4</th>\n",
       "      <th>All</th>\n",
       "    </tr>\n",
       "    <tr>\n",
       "      <th>no_of_children</th>\n",
       "      <th></th>\n",
       "      <th></th>\n",
       "      <th></th>\n",
       "      <th></th>\n",
       "      <th></th>\n",
       "      <th></th>\n",
       "    </tr>\n",
       "  </thead>\n",
       "  <tbody>\n",
       "    <tr>\n",
       "      <th>0</th>\n",
       "      <td>0.000000</td>\n",
       "      <td>0.207808</td>\n",
       "      <td>0.654938</td>\n",
       "      <td>0.063029</td>\n",
       "      <td>0.000363</td>\n",
       "      <td>0.926139</td>\n",
       "    </tr>\n",
       "    <tr>\n",
       "      <th>1</th>\n",
       "      <td>0.000000</td>\n",
       "      <td>0.002290</td>\n",
       "      <td>0.040638</td>\n",
       "      <td>0.000618</td>\n",
       "      <td>0.000000</td>\n",
       "      <td>0.043546</td>\n",
       "    </tr>\n",
       "    <tr>\n",
       "      <th>2</th>\n",
       "      <td>0.003599</td>\n",
       "      <td>0.001636</td>\n",
       "      <td>0.024354</td>\n",
       "      <td>0.000036</td>\n",
       "      <td>0.000000</td>\n",
       "      <td>0.029625</td>\n",
       "    </tr>\n",
       "    <tr>\n",
       "      <th>3</th>\n",
       "      <td>0.000145</td>\n",
       "      <td>0.000000</td>\n",
       "      <td>0.000436</td>\n",
       "      <td>0.000000</td>\n",
       "      <td>0.000000</td>\n",
       "      <td>0.000582</td>\n",
       "    </tr>\n",
       "    <tr>\n",
       "      <th>9</th>\n",
       "      <td>0.000000</td>\n",
       "      <td>0.000036</td>\n",
       "      <td>0.000036</td>\n",
       "      <td>0.000000</td>\n",
       "      <td>0.000000</td>\n",
       "      <td>0.000073</td>\n",
       "    </tr>\n",
       "    <tr>\n",
       "      <th>10</th>\n",
       "      <td>0.000000</td>\n",
       "      <td>0.000000</td>\n",
       "      <td>0.000036</td>\n",
       "      <td>0.000000</td>\n",
       "      <td>0.000000</td>\n",
       "      <td>0.000036</td>\n",
       "    </tr>\n",
       "    <tr>\n",
       "      <th>All</th>\n",
       "      <td>0.003744</td>\n",
       "      <td>0.211770</td>\n",
       "      <td>0.720439</td>\n",
       "      <td>0.063684</td>\n",
       "      <td>0.000363</td>\n",
       "      <td>1.000000</td>\n",
       "    </tr>\n",
       "  </tbody>\n",
       "</table>\n",
       "</div>"
      ],
      "text/plain": [
       "no_of_adults           0         1         2         3         4       All\n",
       "no_of_children                                                            \n",
       "0               0.000000  0.207808  0.654938  0.063029  0.000363  0.926139\n",
       "1               0.000000  0.002290  0.040638  0.000618  0.000000  0.043546\n",
       "2               0.003599  0.001636  0.024354  0.000036  0.000000  0.029625\n",
       "3               0.000145  0.000000  0.000436  0.000000  0.000000  0.000582\n",
       "9               0.000000  0.000036  0.000036  0.000000  0.000000  0.000073\n",
       "10              0.000000  0.000000  0.000036  0.000000  0.000000  0.000036\n",
       "All             0.003744  0.211770  0.720439  0.063684  0.000363  1.000000"
      ]
     },
     "execution_count": 109,
     "metadata": {},
     "output_type": "execute_result"
    }
   ],
   "source": [
    "pd.crosstab(index=hotels['no_of_children'],columns=hotels['no_of_adults'],normalize=True,margins=True)"
   ]
  },
  {
   "cell_type": "markdown",
   "id": "e161ddce-cde9-47c6-b15a-c0555d81bde7",
   "metadata": {},
   "source": [
    "**Observations**\n",
    "\n",
    "it can be seen that\n",
    "- 4 adults have less than 1 percent chances of making bookings with children\n",
    "- 3 adults have 6.4% of making bookings with childeren\n",
    "- 2 adults have the highest likelyood of making bookings with children which is 72% chances, one intresting thing to note is that out of the 72%, there is approximately 65.4% that 2 adults will book an hotel with 0 children.\n",
    "\n",
    "- 1 adult has the 21.1% of making bookings with children and there's 20% chances 1 adult made bookings with 0 children.\n",
    "\n",
    "The inference that can be drawn from this is that most adults don't book an hotel their with children\n"
   ]
  },
  {
   "cell_type": "code",
   "execution_count": 110,
   "id": "0cd54248-dbb1-4f65-b210-a1f9971a1530",
   "metadata": {},
   "outputs": [
    {
     "data": {
      "text/html": [
       "<div>\n",
       "<style scoped>\n",
       "    .dataframe tbody tr th:only-of-type {\n",
       "        vertical-align: middle;\n",
       "    }\n",
       "\n",
       "    .dataframe tbody tr th {\n",
       "        vertical-align: top;\n",
       "    }\n",
       "\n",
       "    .dataframe thead th {\n",
       "        text-align: right;\n",
       "    }\n",
       "</style>\n",
       "<table border=\"1\" class=\"dataframe\">\n",
       "  <thead>\n",
       "    <tr style=\"text-align: right;\">\n",
       "      <th>booking_status</th>\n",
       "      <th>0</th>\n",
       "      <th>1</th>\n",
       "      <th>All</th>\n",
       "    </tr>\n",
       "    <tr>\n",
       "      <th>no_of_children</th>\n",
       "      <th></th>\n",
       "      <th></th>\n",
       "      <th></th>\n",
       "    </tr>\n",
       "  </thead>\n",
       "  <tbody>\n",
       "    <tr>\n",
       "      <th>0</th>\n",
       "      <td>0.626295</td>\n",
       "      <td>0.299844</td>\n",
       "      <td>0.926139</td>\n",
       "    </tr>\n",
       "    <tr>\n",
       "      <th>1</th>\n",
       "      <td>0.029116</td>\n",
       "      <td>0.014431</td>\n",
       "      <td>0.043546</td>\n",
       "    </tr>\n",
       "    <tr>\n",
       "      <th>2</th>\n",
       "      <td>0.016612</td>\n",
       "      <td>0.013013</td>\n",
       "      <td>0.029625</td>\n",
       "    </tr>\n",
       "    <tr>\n",
       "      <th>3</th>\n",
       "      <td>0.000400</td>\n",
       "      <td>0.000182</td>\n",
       "      <td>0.000582</td>\n",
       "    </tr>\n",
       "    <tr>\n",
       "      <th>9</th>\n",
       "      <td>0.000036</td>\n",
       "      <td>0.000036</td>\n",
       "      <td>0.000073</td>\n",
       "    </tr>\n",
       "    <tr>\n",
       "      <th>10</th>\n",
       "      <td>0.000036</td>\n",
       "      <td>0.000000</td>\n",
       "      <td>0.000036</td>\n",
       "    </tr>\n",
       "    <tr>\n",
       "      <th>All</th>\n",
       "      <td>0.672495</td>\n",
       "      <td>0.327505</td>\n",
       "      <td>1.000000</td>\n",
       "    </tr>\n",
       "  </tbody>\n",
       "</table>\n",
       "</div>"
      ],
      "text/plain": [
       "booking_status         0         1       All\n",
       "no_of_children                              \n",
       "0               0.626295  0.299844  0.926139\n",
       "1               0.029116  0.014431  0.043546\n",
       "2               0.016612  0.013013  0.029625\n",
       "3               0.000400  0.000182  0.000582\n",
       "9               0.000036  0.000036  0.000073\n",
       "10              0.000036  0.000000  0.000036\n",
       "All             0.672495  0.327505  1.000000"
      ]
     },
     "execution_count": 110,
     "metadata": {},
     "output_type": "execute_result"
    }
   ],
   "source": [
    "pd.crosstab(index=hotels['no_of_children'],columns=hotels['booking_status'],normalize=True,margins=True)"
   ]
  },
  {
   "cell_type": "markdown",
   "id": "cbcf23b7-ae92-4666-a125-a8084803fe6e",
   "metadata": {},
   "source": [
    "**Observation**\n",
    "\n",
    "bookings with 0 children i.e with no children has approximately 30% of canceled and 63% of not cancelled\n",
    "\n",
    "the rest of booking with children has small chances of canceled and not canceled"
   ]
  },
  {
   "cell_type": "markdown",
   "id": "fa100fdf-ce48-4dbd-8fbe-0fd5bae9bd9f",
   "metadata": {},
   "source": [
    "Lets check how 'room_type_reserved' affect booking status"
   ]
  },
  {
   "cell_type": "code",
   "execution_count": 111,
   "id": "45d4c057-b460-4a59-a669-121736e0ead9",
   "metadata": {},
   "outputs": [
    {
     "data": {
      "text/html": [
       "<div>\n",
       "<style scoped>\n",
       "    .dataframe tbody tr th:only-of-type {\n",
       "        vertical-align: middle;\n",
       "    }\n",
       "\n",
       "    .dataframe tbody tr th {\n",
       "        vertical-align: top;\n",
       "    }\n",
       "\n",
       "    .dataframe thead th {\n",
       "        text-align: right;\n",
       "    }\n",
       "</style>\n",
       "<table border=\"1\" class=\"dataframe\">\n",
       "  <thead>\n",
       "    <tr style=\"text-align: right;\">\n",
       "      <th>booking_status</th>\n",
       "      <th>0</th>\n",
       "      <th>1</th>\n",
       "      <th>All</th>\n",
       "    </tr>\n",
       "    <tr>\n",
       "      <th>room_type_reserved</th>\n",
       "      <th></th>\n",
       "      <th></th>\n",
       "      <th></th>\n",
       "    </tr>\n",
       "  </thead>\n",
       "  <tbody>\n",
       "    <tr>\n",
       "      <th>Room_Type 1</th>\n",
       "      <td>0.525281</td>\n",
       "      <td>0.249682</td>\n",
       "      <td>0.774963</td>\n",
       "    </tr>\n",
       "    <tr>\n",
       "      <th>Room_Type 2</th>\n",
       "      <td>0.012795</td>\n",
       "      <td>0.006288</td>\n",
       "      <td>0.019083</td>\n",
       "    </tr>\n",
       "    <tr>\n",
       "      <th>Room_Type 3</th>\n",
       "      <td>0.000109</td>\n",
       "      <td>0.000073</td>\n",
       "      <td>0.000182</td>\n",
       "    </tr>\n",
       "    <tr>\n",
       "      <th>Room_Type 4</th>\n",
       "      <td>0.110029</td>\n",
       "      <td>0.056668</td>\n",
       "      <td>0.166697</td>\n",
       "    </tr>\n",
       "    <tr>\n",
       "      <th>Room_Type 5</th>\n",
       "      <td>0.005307</td>\n",
       "      <td>0.001999</td>\n",
       "      <td>0.007306</td>\n",
       "    </tr>\n",
       "    <tr>\n",
       "      <th>Room_Type 6</th>\n",
       "      <td>0.015521</td>\n",
       "      <td>0.011777</td>\n",
       "      <td>0.027298</td>\n",
       "    </tr>\n",
       "    <tr>\n",
       "      <th>Room_Type 7</th>\n",
       "      <td>0.003453</td>\n",
       "      <td>0.001018</td>\n",
       "      <td>0.004471</td>\n",
       "    </tr>\n",
       "    <tr>\n",
       "      <th>All</th>\n",
       "      <td>0.672495</td>\n",
       "      <td>0.327505</td>\n",
       "      <td>1.000000</td>\n",
       "    </tr>\n",
       "  </tbody>\n",
       "</table>\n",
       "</div>"
      ],
      "text/plain": [
       "booking_status             0         1       All\n",
       "room_type_reserved                              \n",
       "Room_Type 1         0.525281  0.249682  0.774963\n",
       "Room_Type 2         0.012795  0.006288  0.019083\n",
       "Room_Type 3         0.000109  0.000073  0.000182\n",
       "Room_Type 4         0.110029  0.056668  0.166697\n",
       "Room_Type 5         0.005307  0.001999  0.007306\n",
       "Room_Type 6         0.015521  0.011777  0.027298\n",
       "Room_Type 7         0.003453  0.001018  0.004471\n",
       "All                 0.672495  0.327505  1.000000"
      ]
     },
     "execution_count": 111,
     "metadata": {},
     "output_type": "execute_result"
    }
   ],
   "source": [
    "pd.crosstab(index=hotels['room_type_reserved'],columns=hotels['booking_status'],normalize=True,margins=True)"
   ]
  },
  {
   "cell_type": "markdown",
   "id": "e7ad4406-9cf3-4e8a-97d1-160813393875",
   "metadata": {},
   "source": [
    "**Observation**\n",
    "\n",
    "Room Type 1 has the highest chances of not canceled and also the higest chances of canceled which are aproximately 53% and and 25% repectively.\n",
    "\n",
    "Room type 4 has 11 booked has 11% of not canceled and approximately 5.7 of being canceled\n",
    "\n",
    "The rest of the room types have small percentages of canceled and not canceled"
   ]
  },
  {
   "cell_type": "code",
   "execution_count": 112,
   "id": "ae9a0558-2c09-4749-9736-d1c0f344eff8",
   "metadata": {},
   "outputs": [
    {
     "data": {
      "text/plain": [
       "<Axes: xlabel='booking_status'>"
      ]
     },
     "execution_count": 112,
     "metadata": {},
     "output_type": "execute_result"
    },
    {
     "data": {
      "image/png": "[encoded data removed]",
      "text/plain": [
       "<Figure size 640x480 with 1 Axes>"
      ]
     },
     "metadata": {},
     "output_type": "display_data"
    }
   ],
   "source": [
    "hotels_1= hotels.groupby(['booking_status', 'room_type_reserved']).size()\n",
    "hotels_1 = hotels_1.unstack()\n",
    "hotels_1.plot(kind='bar')\n"
   ]
  },
  {
   "cell_type": "code",
   "execution_count": 113,
   "id": "5d4434fc-3d0b-44d0-bbac-a15fb32e3ecb",
   "metadata": {},
   "outputs": [
    {
     "data": {
      "text/plain": [
       "<Axes: xlabel='type_of_meal_plan'>"
      ]
     },
     "execution_count": 113,
     "metadata": {},
     "output_type": "execute_result"
    },
    {
     "data": {
      "image/png": "[encoded data removed]",
      "text/plain": [
       "<Figure size 640x480 with 1 Axes>"
      ]
     },
     "metadata": {},
     "output_type": "display_data"
    }
   ],
   "source": [
    "hotels_1= hotels.groupby(['type_of_meal_plan', 'room_type_reserved']).size()\n",
    "hotels_1 = hotels_1.unstack()\n",
    "hotels_1.plot(kind='bar')"
   ]
  },
  {
   "cell_type": "markdown",
   "id": "a0ef211f-6f8a-4671-8095-956912a6c230",
   "metadata": {},
   "source": [
    "**Observation**\n",
    "\n",
    "The first bar chart shows that among all the 'room_type_reserved', room_type 1 has the highest reseravation.\n",
    "among not cancelled it has the highest percentage and among the canceled it also has the highest percentage\n",
    "\n",
    "\n",
    "\n",
    "The second bar chart shows the relationship between 'type_of_meal_plan' and 'room_type_reserved'. \n",
    "This visualization is done in other to check for the preferred meal or most ordered meal in each room\n",
    "\n",
    "It can be seen that Meal plan 1 is the most preferred in all room_types except room 3,\n",
    "meal plan 3 is barely ordered or not ordered at all, Approximately 4000 of customers that booked room_type 1 didn't select any meal plan, reserved room type didn't select any meal plans too but there were not as significant as room_type 1.\n",
    "\n",
    "perharps they don't like any of the meal plan and this might lead to cancellation of booking \n"
   ]
  },
  {
   "cell_type": "code",
   "execution_count": 114,
   "id": "2aea9e5d-438f-45e7-8118-e211cb442adc",
   "metadata": {},
   "outputs": [
    {
     "data": {
      "text/html": [
       "<div>\n",
       "<style scoped>\n",
       "    .dataframe tbody tr th:only-of-type {\n",
       "        vertical-align: middle;\n",
       "    }\n",
       "\n",
       "    .dataframe tbody tr th {\n",
       "        vertical-align: top;\n",
       "    }\n",
       "\n",
       "    .dataframe thead th {\n",
       "        text-align: right;\n",
       "    }\n",
       "</style>\n",
       "<table border=\"1\" class=\"dataframe\">\n",
       "  <thead>\n",
       "    <tr style=\"text-align: right;\">\n",
       "      <th>booking_status</th>\n",
       "      <th>0</th>\n",
       "      <th>1</th>\n",
       "      <th>All</th>\n",
       "    </tr>\n",
       "    <tr>\n",
       "      <th>no_of_weekend_nights</th>\n",
       "      <th></th>\n",
       "      <th></th>\n",
       "      <th></th>\n",
       "    </tr>\n",
       "  </thead>\n",
       "  <tbody>\n",
       "    <tr>\n",
       "      <th>0</th>\n",
       "      <td>0.324270</td>\n",
       "      <td>0.139290</td>\n",
       "      <td>0.463560</td>\n",
       "    </tr>\n",
       "    <tr>\n",
       "      <th>1</th>\n",
       "      <td>0.180946</td>\n",
       "      <td>0.094798</td>\n",
       "      <td>0.275744</td>\n",
       "    </tr>\n",
       "    <tr>\n",
       "      <th>2</th>\n",
       "      <td>0.163607</td>\n",
       "      <td>0.088110</td>\n",
       "      <td>0.251717</td>\n",
       "    </tr>\n",
       "    <tr>\n",
       "      <th>3</th>\n",
       "      <td>0.002181</td>\n",
       "      <td>0.001854</td>\n",
       "      <td>0.004035</td>\n",
       "    </tr>\n",
       "    <tr>\n",
       "      <th>4</th>\n",
       "      <td>0.001163</td>\n",
       "      <td>0.002145</td>\n",
       "      <td>0.003308</td>\n",
       "    </tr>\n",
       "    <tr>\n",
       "      <th>5</th>\n",
       "      <td>0.000182</td>\n",
       "      <td>0.000800</td>\n",
       "      <td>0.000981</td>\n",
       "    </tr>\n",
       "    <tr>\n",
       "      <th>6</th>\n",
       "      <td>0.000145</td>\n",
       "      <td>0.000509</td>\n",
       "      <td>0.000654</td>\n",
       "    </tr>\n",
       "    <tr>\n",
       "      <th>All</th>\n",
       "      <td>0.672495</td>\n",
       "      <td>0.327505</td>\n",
       "      <td>1.000000</td>\n",
       "    </tr>\n",
       "  </tbody>\n",
       "</table>\n",
       "</div>"
      ],
      "text/plain": [
       "booking_status               0         1       All\n",
       "no_of_weekend_nights                              \n",
       "0                     0.324270  0.139290  0.463560\n",
       "1                     0.180946  0.094798  0.275744\n",
       "2                     0.163607  0.088110  0.251717\n",
       "3                     0.002181  0.001854  0.004035\n",
       "4                     0.001163  0.002145  0.003308\n",
       "5                     0.000182  0.000800  0.000981\n",
       "6                     0.000145  0.000509  0.000654\n",
       "All                   0.672495  0.327505  1.000000"
      ]
     },
     "execution_count": 114,
     "metadata": {},
     "output_type": "execute_result"
    }
   ],
   "source": [
    "pd.crosstab(index=hotels['no_of_weekend_nights'],columns=hotels['booking_status'],normalize=True,margins=True)"
   ]
  },
  {
   "cell_type": "markdown",
   "id": "3b50aab8-4494-4dd1-a4e5-698392f28162",
   "metadata": {},
   "source": [
    "**Observation**\n",
    "Approximately 46.4% customers booked 0 weekend nights, since its 0 'no_of_weekend_nights' the chances of its cancellation and not canceled are not significant e.g its not possible to return what one didn't buy. same thing apply its not possible to cancel 'weekend_nights' that wasn't booked.\n",
    "\n",
    "1 and 2 'no_of_weekend_nights' have high percentage of cancellation which are approximately 9.5% and 8.8% respectively compare to other 'no_of_weekend_nights'."
   ]
  },
  {
   "cell_type": "code",
   "execution_count": 115,
   "id": "7381822c-bc0e-4dcc-8b12-776d7ef6b2b5",
   "metadata": {},
   "outputs": [
    {
     "data": {
      "text/plain": [
       "<Axes: xlabel='type_of_meal_plan'>"
      ]
     },
     "execution_count": 115,
     "metadata": {},
     "output_type": "execute_result"
    },
    {
     "data": {
      "image/png": "[encoded data removed]",
      "text/plain": [
       "<Figure size 640x480 with 1 Axes>"
      ]
     },
     "metadata": {},
     "output_type": "display_data"
    }
   ],
   "source": [
    "hotels_1= hotels.groupby(['type_of_meal_plan', 'no_of_weekend_nights']).size()\n",
    "hotels_1 = hotels_1.unstack()\n",
    "hotels_1.plot(kind='bar')"
   ]
  },
  {
   "cell_type": "markdown",
   "id": "8830cb4b-39bc-4ddd-8fa0-e3a94d1149bb",
   "metadata": {},
   "source": [
    "Observation\n",
    "\n",
    "Meal plan 1 is basically the most preferred and also there are some customer which do not select any of the mean plans on 'no_of_weekend_nights'"
   ]
  },
  {
   "cell_type": "code",
   "execution_count": 116,
   "id": "1c9e8dc7-a167-4e0b-97cd-ff393b8139ba",
   "metadata": {
    "outputsMetadata": {
     "0": {
      "height": 322,
      "type": "dataFrame"
     }
    }
   },
   "outputs": [
    {
     "data": {
      "text/html": [
       "<div>\n",
       "<style scoped>\n",
       "    .dataframe tbody tr th:only-of-type {\n",
       "        vertical-align: middle;\n",
       "    }\n",
       "\n",
       "    .dataframe tbody tr th {\n",
       "        vertical-align: top;\n",
       "    }\n",
       "\n",
       "    .dataframe thead th {\n",
       "        text-align: right;\n",
       "    }\n",
       "</style>\n",
       "<table border=\"1\" class=\"dataframe\">\n",
       "  <thead>\n",
       "    <tr style=\"text-align: right;\">\n",
       "      <th>booking_status</th>\n",
       "      <th>0</th>\n",
       "      <th>1</th>\n",
       "      <th>All</th>\n",
       "    </tr>\n",
       "    <tr>\n",
       "      <th>no_of_week_nights</th>\n",
       "      <th></th>\n",
       "      <th></th>\n",
       "      <th></th>\n",
       "    </tr>\n",
       "  </thead>\n",
       "  <tbody>\n",
       "    <tr>\n",
       "      <th>0</th>\n",
       "      <td>0.046163</td>\n",
       "      <td>0.018756</td>\n",
       "      <td>0.064919</td>\n",
       "    </tr>\n",
       "    <tr>\n",
       "      <th>1</th>\n",
       "      <td>0.191632</td>\n",
       "      <td>0.072189</td>\n",
       "      <td>0.263822</td>\n",
       "    </tr>\n",
       "    <tr>\n",
       "      <th>2</th>\n",
       "      <td>0.204573</td>\n",
       "      <td>0.109047</td>\n",
       "      <td>0.313620</td>\n",
       "    </tr>\n",
       "    <tr>\n",
       "      <th>3</th>\n",
       "      <td>0.146669</td>\n",
       "      <td>0.070481</td>\n",
       "      <td>0.217150</td>\n",
       "    </tr>\n",
       "    <tr>\n",
       "      <th>4</th>\n",
       "      <td>0.050671</td>\n",
       "      <td>0.031006</td>\n",
       "      <td>0.081676</td>\n",
       "    </tr>\n",
       "    <tr>\n",
       "      <th>5</th>\n",
       "      <td>0.026608</td>\n",
       "      <td>0.018284</td>\n",
       "      <td>0.044891</td>\n",
       "    </tr>\n",
       "    <tr>\n",
       "      <th>6</th>\n",
       "      <td>0.002835</td>\n",
       "      <td>0.002399</td>\n",
       "      <td>0.005234</td>\n",
       "    </tr>\n",
       "    <tr>\n",
       "      <th>7</th>\n",
       "      <td>0.001418</td>\n",
       "      <td>0.001454</td>\n",
       "      <td>0.002872</td>\n",
       "    </tr>\n",
       "    <tr>\n",
       "      <th>8</th>\n",
       "      <td>0.000945</td>\n",
       "      <td>0.000909</td>\n",
       "      <td>0.001854</td>\n",
       "    </tr>\n",
       "    <tr>\n",
       "      <th>9</th>\n",
       "      <td>0.000400</td>\n",
       "      <td>0.000618</td>\n",
       "      <td>0.001018</td>\n",
       "    </tr>\n",
       "    <tr>\n",
       "      <th>10</th>\n",
       "      <td>0.000254</td>\n",
       "      <td>0.001272</td>\n",
       "      <td>0.001527</td>\n",
       "    </tr>\n",
       "    <tr>\n",
       "      <th>11</th>\n",
       "      <td>0.000036</td>\n",
       "      <td>0.000327</td>\n",
       "      <td>0.000363</td>\n",
       "    </tr>\n",
       "    <tr>\n",
       "      <th>12</th>\n",
       "      <td>0.000073</td>\n",
       "      <td>0.000182</td>\n",
       "      <td>0.000254</td>\n",
       "    </tr>\n",
       "    <tr>\n",
       "      <th>13</th>\n",
       "      <td>0.000000</td>\n",
       "      <td>0.000182</td>\n",
       "      <td>0.000182</td>\n",
       "    </tr>\n",
       "    <tr>\n",
       "      <th>14</th>\n",
       "      <td>0.000109</td>\n",
       "      <td>0.000109</td>\n",
       "      <td>0.000218</td>\n",
       "    </tr>\n",
       "    <tr>\n",
       "      <th>15</th>\n",
       "      <td>0.000073</td>\n",
       "      <td>0.000182</td>\n",
       "      <td>0.000254</td>\n",
       "    </tr>\n",
       "    <tr>\n",
       "      <th>16</th>\n",
       "      <td>0.000000</td>\n",
       "      <td>0.000073</td>\n",
       "      <td>0.000073</td>\n",
       "    </tr>\n",
       "    <tr>\n",
       "      <th>17</th>\n",
       "      <td>0.000036</td>\n",
       "      <td>0.000036</td>\n",
       "      <td>0.000073</td>\n",
       "    </tr>\n",
       "    <tr>\n",
       "      <th>All</th>\n",
       "      <td>0.672495</td>\n",
       "      <td>0.327505</td>\n",
       "      <td>1.000000</td>\n",
       "    </tr>\n",
       "  </tbody>\n",
       "</table>\n",
       "</div>"
      ],
      "text/plain": [
       "booking_status            0         1       All\n",
       "no_of_week_nights                              \n",
       "0                  0.046163  0.018756  0.064919\n",
       "1                  0.191632  0.072189  0.263822\n",
       "2                  0.204573  0.109047  0.313620\n",
       "3                  0.146669  0.070481  0.217150\n",
       "4                  0.050671  0.031006  0.081676\n",
       "5                  0.026608  0.018284  0.044891\n",
       "6                  0.002835  0.002399  0.005234\n",
       "7                  0.001418  0.001454  0.002872\n",
       "8                  0.000945  0.000909  0.001854\n",
       "9                  0.000400  0.000618  0.001018\n",
       "10                 0.000254  0.001272  0.001527\n",
       "11                 0.000036  0.000327  0.000363\n",
       "12                 0.000073  0.000182  0.000254\n",
       "13                 0.000000  0.000182  0.000182\n",
       "14                 0.000109  0.000109  0.000218\n",
       "15                 0.000073  0.000182  0.000254\n",
       "16                 0.000000  0.000073  0.000073\n",
       "17                 0.000036  0.000036  0.000073\n",
       "All                0.672495  0.327505  1.000000"
      ]
     },
     "execution_count": 116,
     "metadata": {},
     "output_type": "execute_result"
    }
   ],
   "source": [
    "pd.crosstab(index=hotels['no_of_week_nights'],columns=hotels['booking_status'],normalize=True,margins=True)"
   ]
  },
  {
   "cell_type": "markdown",
   "id": "e8173162-28bf-4f79-87b3-0cd6bd6e4159",
   "metadata": {},
   "source": []
  },
  {
   "cell_type": "markdown",
   "id": "45ddbab6-4c01-41bb-97ef-d8708596a6fd",
   "metadata": {},
   "source": [
    "**1, 2 and 3 'no_of_week_nights'** have the high chances of being canceled which are aproximately 7.2%, 11% and 7.0% respeectively"
   ]
  },
  {
   "cell_type": "code",
   "execution_count": 117,
   "id": "ba8d0a15-d9bb-4bf0-b1ab-9db7e53447a4",
   "metadata": {},
   "outputs": [
    {
     "data": {
      "text/plain": [
       "<Axes: xlabel='no_of_week_nights'>"
      ]
     },
     "execution_count": 117,
     "metadata": {},
     "output_type": "execute_result"
    },
    {
     "data": {
      "image/png": "[encoded data removed]",
      "text/plain": [
       "<Figure size 640x480 with 1 Axes>"
      ]
     },
     "metadata": {},
     "output_type": "display_data"
    }
   ],
   "source": [
    "hotels_1= hotels.groupby(['no_of_week_nights', 'type_of_meal_plan']).size()\n",
    "hotels_1 = hotels_1[:20].unstack()\n",
    "hotels_1.plot(kind='bar')"
   ]
  },
  {
   "cell_type": "code",
   "execution_count": 118,
   "id": "17c8b61e-fe16-4c73-b345-2580c6630ad3",
   "metadata": {
    "outputsMetadata": {
     "0": {
      "height": 147,
      "type": "dataFrame"
     }
    }
   },
   "outputs": [
    {
     "data": {
      "text/html": [
       "<div>\n",
       "<style scoped>\n",
       "    .dataframe tbody tr th:only-of-type {\n",
       "        vertical-align: middle;\n",
       "    }\n",
       "\n",
       "    .dataframe tbody tr th {\n",
       "        vertical-align: top;\n",
       "    }\n",
       "\n",
       "    .dataframe thead th {\n",
       "        text-align: right;\n",
       "    }\n",
       "</style>\n",
       "<table border=\"1\" class=\"dataframe\">\n",
       "  <thead>\n",
       "    <tr style=\"text-align: right;\">\n",
       "      <th>booking_status</th>\n",
       "      <th>0</th>\n",
       "      <th>1</th>\n",
       "      <th>All</th>\n",
       "    </tr>\n",
       "    <tr>\n",
       "      <th>required_car_parking_space</th>\n",
       "      <th></th>\n",
       "      <th></th>\n",
       "      <th></th>\n",
       "    </tr>\n",
       "  </thead>\n",
       "  <tbody>\n",
       "    <tr>\n",
       "      <th>0.0</th>\n",
       "      <td>0.644506</td>\n",
       "      <td>0.324307</td>\n",
       "      <td>0.968812</td>\n",
       "    </tr>\n",
       "    <tr>\n",
       "      <th>1.0</th>\n",
       "      <td>0.027989</td>\n",
       "      <td>0.003199</td>\n",
       "      <td>0.031188</td>\n",
       "    </tr>\n",
       "    <tr>\n",
       "      <th>All</th>\n",
       "      <td>0.672495</td>\n",
       "      <td>0.327505</td>\n",
       "      <td>1.000000</td>\n",
       "    </tr>\n",
       "  </tbody>\n",
       "</table>\n",
       "</div>"
      ],
      "text/plain": [
       "booking_status                     0         1       All\n",
       "required_car_parking_space                              \n",
       "0.0                         0.644506  0.324307  0.968812\n",
       "1.0                         0.027989  0.003199  0.031188\n",
       "All                         0.672495  0.327505  1.000000"
      ]
     },
     "execution_count": 118,
     "metadata": {},
     "output_type": "execute_result"
    }
   ],
   "source": [
    "pd.crosstab(index=hotels['required_car_parking_space'],columns=hotels['booking_status'],normalize=True,margins=True)"
   ]
  },
  {
   "cell_type": "markdown",
   "id": "14ce338c-ad3d-489e-9667-9e9b9bbda2a5",
   "metadata": {},
   "source": [
    "Approximately  **96.8% the bookings dosen't require car park** \n",
    "\n",
    "-  the chances that booking will be canceled by customer that don't require car park is 32.4%\n",
    "\n",
    "Approximately **3.1% of the bookings require car park**\n",
    "\n",
    "\n",
    "\n",
    " "
   ]
  },
  {
   "cell_type": "code",
   "execution_count": 119,
   "id": "621e9f52-bd5c-402d-a802-85bf3b847e80",
   "metadata": {},
   "outputs": [
    {
     "data": {
      "image/png": "[encoded data removed]",
      "text/plain": [
       "<Figure size 640x480 with 1 Axes>"
      ]
     },
     "metadata": {},
     "output_type": "display_data"
    }
   ],
   "source": [
    "plt.hist(hotels[\"required_car_parking_space\"]);\n"
   ]
  },
  {
   "cell_type": "code",
   "execution_count": 120,
   "id": "95f8d693-e3ec-4d99-a3f5-8e2f8e86c81e",
   "metadata": {},
   "outputs": [
    {
     "name": "stderr",
     "output_type": "stream",
     "text": [
      "C:\\Users\\User\\AppData\\Local\\Temp\\ipykernel_8124\\2742630584.py:1: FutureWarning: \n",
      "\n",
      "The `ci` parameter is deprecated. Use `errorbar=None` for the same effect.\n",
      "\n",
      "  sns.barplot(x='booking_status',y='required_car_parking_space', ci=None, data=hotels);\n"
     ]
    },
    {
     "data": {
      "image/png": "[encoded data removed]",
      "text/plain": [
       "<Figure size 640x480 with 1 Axes>"
      ]
     },
     "metadata": {},
     "output_type": "display_data"
    }
   ],
   "source": [
    "sns.barplot(x='booking_status',y='required_car_parking_space', ci=None, data=hotels);"
   ]
  },
  {
   "cell_type": "code",
   "execution_count": 121,
   "id": "096cddca-315b-4b4f-a318-a148f279db2b",
   "metadata": {
    "outputsMetadata": {
     "0": {
      "height": 322,
      "type": "dataFrame"
     }
    }
   },
   "outputs": [
    {
     "data": {
      "text/html": [
       "<div>\n",
       "<style scoped>\n",
       "    .dataframe tbody tr th:only-of-type {\n",
       "        vertical-align: middle;\n",
       "    }\n",
       "\n",
       "    .dataframe tbody tr th {\n",
       "        vertical-align: top;\n",
       "    }\n",
       "\n",
       "    .dataframe thead th {\n",
       "        text-align: right;\n",
       "    }\n",
       "</style>\n",
       "<table border=\"1\" class=\"dataframe\">\n",
       "  <thead>\n",
       "    <tr style=\"text-align: right;\">\n",
       "      <th>col_0</th>\n",
       "      <th>count</th>\n",
       "    </tr>\n",
       "    <tr>\n",
       "      <th>lead_time</th>\n",
       "      <th></th>\n",
       "    </tr>\n",
       "  </thead>\n",
       "  <tbody>\n",
       "    <tr>\n",
       "      <th>0</th>\n",
       "      <td>0.035404</td>\n",
       "    </tr>\n",
       "    <tr>\n",
       "      <th>1</th>\n",
       "      <td>0.030133</td>\n",
       "    </tr>\n",
       "    <tr>\n",
       "      <th>2</th>\n",
       "      <td>0.017702</td>\n",
       "    </tr>\n",
       "    <tr>\n",
       "      <th>3</th>\n",
       "      <td>0.017120</td>\n",
       "    </tr>\n",
       "    <tr>\n",
       "      <th>4</th>\n",
       "      <td>0.017302</td>\n",
       "    </tr>\n",
       "    <tr>\n",
       "      <th>...</th>\n",
       "      <td>...</td>\n",
       "    </tr>\n",
       "    <tr>\n",
       "      <th>381</th>\n",
       "      <td>0.000036</td>\n",
       "    </tr>\n",
       "    <tr>\n",
       "      <th>386</th>\n",
       "      <td>0.002072</td>\n",
       "    </tr>\n",
       "    <tr>\n",
       "      <th>418</th>\n",
       "      <td>0.001527</td>\n",
       "    </tr>\n",
       "    <tr>\n",
       "      <th>433</th>\n",
       "      <td>0.000691</td>\n",
       "    </tr>\n",
       "    <tr>\n",
       "      <th>443</th>\n",
       "      <td>0.000763</td>\n",
       "    </tr>\n",
       "  </tbody>\n",
       "</table>\n",
       "<p>347 rows × 1 columns</p>\n",
       "</div>"
      ],
      "text/plain": [
       "col_0         count\n",
       "lead_time          \n",
       "0          0.035404\n",
       "1          0.030133\n",
       "2          0.017702\n",
       "3          0.017120\n",
       "4          0.017302\n",
       "...             ...\n",
       "381        0.000036\n",
       "386        0.002072\n",
       "418        0.001527\n",
       "433        0.000691\n",
       "443        0.000763\n",
       "\n",
       "[347 rows x 1 columns]"
      ]
     },
     "execution_count": 121,
     "metadata": {},
     "output_type": "execute_result"
    }
   ],
   "source": [
    "pd.crosstab(index=hotels['lead_time'],columns='count',normalize=True)"
   ]
  },
  {
   "cell_type": "code",
   "execution_count": 122,
   "id": "b98c3e6f-2223-4246-82a6-085c6119d652",
   "metadata": {},
   "outputs": [
    {
     "data": {
      "image/png": "[encoded data removed]",
      "text/plain": [
       "<Figure size 640x480 with 1 Axes>"
      ]
     },
     "metadata": {},
     "output_type": "display_data"
    }
   ],
   "source": [
    "plt.hist(hotels[\"lead_time\"]);"
   ]
  },
  {
   "cell_type": "markdown",
   "id": "efde0525-9062-4d99-97f1-230ff1e497e4",
   "metadata": {},
   "source": [
    "**Observation**\n",
    "\n",
    "The data is positively skewed\n",
    "\n",
    "Decline in numbers of bookings as lead time increases\n",
    "\n",
    "lead time from 400 and above has the lowest booking\n",
    "\n",
    "maximum number of booking was made between 0-50 lead time"
   ]
  },
  {
   "cell_type": "code",
   "execution_count": 123,
   "id": "9c81d928-9fcf-406a-a85c-1416b2d87f07",
   "metadata": {
    "outputsMetadata": {
     "0": {
      "height": 147,
      "type": "dataFrame"
     }
    }
   },
   "outputs": [
    {
     "data": {
      "text/html": [
       "<div>\n",
       "<style scoped>\n",
       "    .dataframe tbody tr th:only-of-type {\n",
       "        vertical-align: middle;\n",
       "    }\n",
       "\n",
       "    .dataframe tbody tr th {\n",
       "        vertical-align: top;\n",
       "    }\n",
       "\n",
       "    .dataframe thead th {\n",
       "        text-align: right;\n",
       "    }\n",
       "</style>\n",
       "<table border=\"1\" class=\"dataframe\">\n",
       "  <thead>\n",
       "    <tr style=\"text-align: right;\">\n",
       "      <th>booking_status</th>\n",
       "      <th>0</th>\n",
       "      <th>1</th>\n",
       "      <th>All</th>\n",
       "    </tr>\n",
       "    <tr>\n",
       "      <th>arrival_year</th>\n",
       "      <th></th>\n",
       "      <th></th>\n",
       "      <th></th>\n",
       "    </tr>\n",
       "  </thead>\n",
       "  <tbody>\n",
       "    <tr>\n",
       "      <th>2017</th>\n",
       "      <td>0.152484</td>\n",
       "      <td>0.026353</td>\n",
       "      <td>0.178838</td>\n",
       "    </tr>\n",
       "    <tr>\n",
       "      <th>2018</th>\n",
       "      <td>0.520010</td>\n",
       "      <td>0.301152</td>\n",
       "      <td>0.821162</td>\n",
       "    </tr>\n",
       "    <tr>\n",
       "      <th>All</th>\n",
       "      <td>0.672495</td>\n",
       "      <td>0.327505</td>\n",
       "      <td>1.000000</td>\n",
       "    </tr>\n",
       "  </tbody>\n",
       "</table>\n",
       "</div>"
      ],
      "text/plain": [
       "booking_status         0         1       All\n",
       "arrival_year                                \n",
       "2017            0.152484  0.026353  0.178838\n",
       "2018            0.520010  0.301152  0.821162\n",
       "All             0.672495  0.327505  1.000000"
      ]
     },
     "execution_count": 123,
     "metadata": {},
     "output_type": "execute_result"
    }
   ],
   "source": [
    "pd.crosstab(\n",
    "    index=hotels['arrival_year'],columns=hotels['booking_status'],normalize=True,margins=True)"
   ]
  },
  {
   "cell_type": "code",
   "execution_count": 124,
   "id": "ce3cc17a-8171-4894-8e49-0a9232332188",
   "metadata": {},
   "outputs": [
    {
     "data": {
      "image/png": "[encoded data removed]",
      "text/plain": [
       "<Figure size 640x480 with 1 Axes>"
      ]
     },
     "metadata": {},
     "output_type": "display_data"
    }
   ],
   "source": [
    "sns.countplot(x='arrival_year',data=hotels);"
   ]
  },
  {
   "cell_type": "markdown",
   "id": "a5ac2b34-0347-44fb-aca5-91a50948250d",
   "metadata": {},
   "source": [
    "**Observations**\n",
    "\n",
    "Majority of customers selected 2018 as their arrival year\n",
    "\n",
    "Chances of bookings not canceled in 2018 is 52% and chances of booking canceled is 30%\n",
    "\n",
    "The probability that booking was canceled in 2017 is 2.64% and the probability of not canceled is  15.2%"
   ]
  },
  {
   "cell_type": "code",
   "execution_count": 125,
   "id": "ed4ee5af-fcc5-4b3b-952d-981fb2aaf3a4",
   "metadata": {
    "outputsMetadata": {
     "0": {
      "height": 322,
      "type": "dataFrame"
     }
    }
   },
   "outputs": [
    {
     "data": {
      "text/html": [
       "<div>\n",
       "<style scoped>\n",
       "    .dataframe tbody tr th:only-of-type {\n",
       "        vertical-align: middle;\n",
       "    }\n",
       "\n",
       "    .dataframe tbody tr th {\n",
       "        vertical-align: top;\n",
       "    }\n",
       "\n",
       "    .dataframe thead th {\n",
       "        text-align: right;\n",
       "    }\n",
       "</style>\n",
       "<table border=\"1\" class=\"dataframe\">\n",
       "  <thead>\n",
       "    <tr style=\"text-align: right;\">\n",
       "      <th>booking_status</th>\n",
       "      <th>0</th>\n",
       "      <th>1</th>\n",
       "      <th>All</th>\n",
       "    </tr>\n",
       "    <tr>\n",
       "      <th>arrival_month</th>\n",
       "      <th></th>\n",
       "      <th></th>\n",
       "      <th></th>\n",
       "    </tr>\n",
       "  </thead>\n",
       "  <tbody>\n",
       "    <tr>\n",
       "      <th>Apr</th>\n",
       "      <td>0.047981</td>\n",
       "      <td>0.027444</td>\n",
       "      <td>0.075424</td>\n",
       "    </tr>\n",
       "    <tr>\n",
       "      <th>Aug</th>\n",
       "      <td>0.063684</td>\n",
       "      <td>0.040747</td>\n",
       "      <td>0.104431</td>\n",
       "    </tr>\n",
       "    <tr>\n",
       "      <th>Dec</th>\n",
       "      <td>0.071571</td>\n",
       "      <td>0.011196</td>\n",
       "      <td>0.082767</td>\n",
       "    </tr>\n",
       "    <tr>\n",
       "      <th>Feb</th>\n",
       "      <td>0.034059</td>\n",
       "      <td>0.011959</td>\n",
       "      <td>0.046018</td>\n",
       "    </tr>\n",
       "    <tr>\n",
       "      <th>Jan</th>\n",
       "      <td>0.027371</td>\n",
       "      <td>0.000545</td>\n",
       "      <td>0.027916</td>\n",
       "    </tr>\n",
       "    <tr>\n",
       "      <th>Jul</th>\n",
       "      <td>0.044091</td>\n",
       "      <td>0.036458</td>\n",
       "      <td>0.080550</td>\n",
       "    </tr>\n",
       "    <tr>\n",
       "      <th>Jun</th>\n",
       "      <td>0.054269</td>\n",
       "      <td>0.035695</td>\n",
       "      <td>0.089964</td>\n",
       "    </tr>\n",
       "    <tr>\n",
       "      <th>Mar</th>\n",
       "      <td>0.045291</td>\n",
       "      <td>0.019374</td>\n",
       "      <td>0.064665</td>\n",
       "    </tr>\n",
       "    <tr>\n",
       "      <th>May</th>\n",
       "      <td>0.046091</td>\n",
       "      <td>0.026280</td>\n",
       "      <td>0.072371</td>\n",
       "    </tr>\n",
       "    <tr>\n",
       "      <th>Nov</th>\n",
       "      <td>0.057141</td>\n",
       "      <td>0.024681</td>\n",
       "      <td>0.081822</td>\n",
       "    </tr>\n",
       "    <tr>\n",
       "      <th>Oct</th>\n",
       "      <td>0.095998</td>\n",
       "      <td>0.051070</td>\n",
       "      <td>0.147068</td>\n",
       "    </tr>\n",
       "    <tr>\n",
       "      <th>Sep</th>\n",
       "      <td>0.084948</td>\n",
       "      <td>0.042056</td>\n",
       "      <td>0.127004</td>\n",
       "    </tr>\n",
       "    <tr>\n",
       "      <th>All</th>\n",
       "      <td>0.672495</td>\n",
       "      <td>0.327505</td>\n",
       "      <td>1.000000</td>\n",
       "    </tr>\n",
       "  </tbody>\n",
       "</table>\n",
       "</div>"
      ],
      "text/plain": [
       "booking_status         0         1       All\n",
       "arrival_month                               \n",
       "Apr             0.047981  0.027444  0.075424\n",
       "Aug             0.063684  0.040747  0.104431\n",
       "Dec             0.071571  0.011196  0.082767\n",
       "Feb             0.034059  0.011959  0.046018\n",
       "Jan             0.027371  0.000545  0.027916\n",
       "Jul             0.044091  0.036458  0.080550\n",
       "Jun             0.054269  0.035695  0.089964\n",
       "Mar             0.045291  0.019374  0.064665\n",
       "May             0.046091  0.026280  0.072371\n",
       "Nov             0.057141  0.024681  0.081822\n",
       "Oct             0.095998  0.051070  0.147068\n",
       "Sep             0.084948  0.042056  0.127004\n",
       "All             0.672495  0.327505  1.000000"
      ]
     },
     "execution_count": 125,
     "metadata": {},
     "output_type": "execute_result"
    }
   ],
   "source": [
    "pd.crosstab(\n",
    "    index=hotels['arrival_month'],columns=hotels['booking_status'],normalize=True,margins=True)"
   ]
  },
  {
   "cell_type": "code",
   "execution_count": 126,
   "id": "1e339a1b-9d9f-48eb-ac21-2b1ae3a4946b",
   "metadata": {},
   "outputs": [
    {
     "data": {
      "image/png": "[encoded data removed]",
      "text/plain": [
       "<Figure size 640x480 with 1 Axes>"
      ]
     },
     "metadata": {},
     "output_type": "display_data"
    }
   ],
   "source": [
    "sns.countplot(x='arrival_month',data=hotels);"
   ]
  },
  {
   "cell_type": "markdown",
   "id": "65fa02d4-1835-49d6-9d12-eab3bebb4116",
   "metadata": {},
   "source": [
    "\n"
   ]
  },
  {
   "cell_type": "code",
   "execution_count": 127,
   "id": "c776d1c1-d23e-4f52-87d6-f0e8019ba030",
   "metadata": {
    "outputsMetadata": {
     "0": {
      "height": 222,
      "type": "dataFrame"
     }
    }
   },
   "outputs": [
    {
     "data": {
      "text/html": [
       "<div>\n",
       "<style scoped>\n",
       "    .dataframe tbody tr th:only-of-type {\n",
       "        vertical-align: middle;\n",
       "    }\n",
       "\n",
       "    .dataframe tbody tr th {\n",
       "        vertical-align: top;\n",
       "    }\n",
       "\n",
       "    .dataframe thead th {\n",
       "        text-align: right;\n",
       "    }\n",
       "</style>\n",
       "<table border=\"1\" class=\"dataframe\">\n",
       "  <thead>\n",
       "    <tr style=\"text-align: right;\">\n",
       "      <th>booking_status</th>\n",
       "      <th>0</th>\n",
       "      <th>1</th>\n",
       "      <th>All</th>\n",
       "    </tr>\n",
       "    <tr>\n",
       "      <th>market_segment_type</th>\n",
       "      <th></th>\n",
       "      <th></th>\n",
       "      <th></th>\n",
       "    </tr>\n",
       "  </thead>\n",
       "  <tbody>\n",
       "    <tr>\n",
       "      <th>Aviation</th>\n",
       "      <td>0.002544</td>\n",
       "      <td>0.001127</td>\n",
       "      <td>0.003671</td>\n",
       "    </tr>\n",
       "    <tr>\n",
       "      <th>Complementary</th>\n",
       "      <td>0.010868</td>\n",
       "      <td>0.000000</td>\n",
       "      <td>0.010868</td>\n",
       "    </tr>\n",
       "    <tr>\n",
       "      <th>Corporate</th>\n",
       "      <td>0.049617</td>\n",
       "      <td>0.005998</td>\n",
       "      <td>0.055614</td>\n",
       "    </tr>\n",
       "    <tr>\n",
       "      <th>Offline</th>\n",
       "      <td>0.202901</td>\n",
       "      <td>0.087238</td>\n",
       "      <td>0.290138</td>\n",
       "    </tr>\n",
       "    <tr>\n",
       "      <th>Online</th>\n",
       "      <td>0.406565</td>\n",
       "      <td>0.233143</td>\n",
       "      <td>0.639708</td>\n",
       "    </tr>\n",
       "    <tr>\n",
       "      <th>All</th>\n",
       "      <td>0.672495</td>\n",
       "      <td>0.327505</td>\n",
       "      <td>1.000000</td>\n",
       "    </tr>\n",
       "  </tbody>\n",
       "</table>\n",
       "</div>"
      ],
      "text/plain": [
       "booking_status              0         1       All\n",
       "market_segment_type                              \n",
       "Aviation             0.002544  0.001127  0.003671\n",
       "Complementary        0.010868  0.000000  0.010868\n",
       "Corporate            0.049617  0.005998  0.055614\n",
       "Offline              0.202901  0.087238  0.290138\n",
       "Online               0.406565  0.233143  0.639708\n",
       "All                  0.672495  0.327505  1.000000"
      ]
     },
     "execution_count": 127,
     "metadata": {},
     "output_type": "execute_result"
    }
   ],
   "source": [
    "pd.crosstab(index=hotels['market_segment_type'],columns=hotels['booking_status'],normalize=True,margins=True)"
   ]
  },
  {
   "cell_type": "code",
   "execution_count": 128,
   "id": "b8468b3b-dd56-4ab5-8981-ea97ea9411d1",
   "metadata": {},
   "outputs": [
    {
     "data": {
      "image/png": "[encoded data removed]",
      "text/plain": [
       "<Figure size 640x480 with 1 Axes>"
      ]
     },
     "metadata": {},
     "output_type": "display_data"
    }
   ],
   "source": [
    "sns.countplot(x='market_segment_type',data=hotels);"
   ]
  },
  {
   "cell_type": "markdown",
   "id": "e1cf0290-3a31-4270-a3e3-3a2cc9f4cf01",
   "metadata": {},
   "source": [
    "**64% of bookings were made online.**\n",
    "\n",
    "The chances that bookings made online were not canceled is 40.6% and the chances of canceled is 23.3%\n",
    "\n",
    "**29% of bookings were made offline**\n",
    "\n",
    "20.3% of bookings made offline were not canceled and 8.7 bookings made offline where canceled"
   ]
  },
  {
   "cell_type": "code",
   "execution_count": 129,
   "id": "e9033428-76d7-4c8d-87ce-a90bb9b3c102",
   "metadata": {
    "outputsMetadata": {
     "0": {
      "height": 147,
      "type": "dataFrame"
     }
    }
   },
   "outputs": [
    {
     "data": {
      "text/html": [
       "<div>\n",
       "<style scoped>\n",
       "    .dataframe tbody tr th:only-of-type {\n",
       "        vertical-align: middle;\n",
       "    }\n",
       "\n",
       "    .dataframe tbody tr th {\n",
       "        vertical-align: top;\n",
       "    }\n",
       "\n",
       "    .dataframe thead th {\n",
       "        text-align: right;\n",
       "    }\n",
       "</style>\n",
       "<table border=\"1\" class=\"dataframe\">\n",
       "  <thead>\n",
       "    <tr style=\"text-align: right;\">\n",
       "      <th>booking_status</th>\n",
       "      <th>0</th>\n",
       "      <th>1</th>\n",
       "      <th>All</th>\n",
       "    </tr>\n",
       "    <tr>\n",
       "      <th>repeated_guest</th>\n",
       "      <th></th>\n",
       "      <th></th>\n",
       "      <th></th>\n",
       "    </tr>\n",
       "  </thead>\n",
       "  <tbody>\n",
       "    <tr>\n",
       "      <th>0</th>\n",
       "      <td>0.646687</td>\n",
       "      <td>0.327142</td>\n",
       "      <td>0.973829</td>\n",
       "    </tr>\n",
       "    <tr>\n",
       "      <th>1</th>\n",
       "      <td>0.025808</td>\n",
       "      <td>0.000363</td>\n",
       "      <td>0.026171</td>\n",
       "    </tr>\n",
       "    <tr>\n",
       "      <th>All</th>\n",
       "      <td>0.672495</td>\n",
       "      <td>0.327505</td>\n",
       "      <td>1.000000</td>\n",
       "    </tr>\n",
       "  </tbody>\n",
       "</table>\n",
       "</div>"
      ],
      "text/plain": [
       "booking_status         0         1       All\n",
       "repeated_guest                              \n",
       "0               0.646687  0.327142  0.973829\n",
       "1               0.025808  0.000363  0.026171\n",
       "All             0.672495  0.327505  1.000000"
      ]
     },
     "execution_count": 129,
     "metadata": {},
     "output_type": "execute_result"
    }
   ],
   "source": [
    "pd.crosstab(index=hotels['repeated_guest'],columns=hotels['booking_status'],normalize=True,margins=True)"
   ]
  },
  {
   "cell_type": "markdown",
   "id": "632598b4-261b-46f7-8e4b-6cf9e2d6445d",
   "metadata": {},
   "source": [
    "**Observations**\n",
    "\n",
    "Only 2.61% are repeated guest\n",
    "The chances that repeated guest canceled their booking is lesss that 0.5%\n",
    "\n",
    "97.4% are new guest\n",
    "The chances that new guest canceled their booking is is 32.7\n"
   ]
  },
  {
   "cell_type": "code",
   "execution_count": 130,
   "id": "1636b4ef-daa6-42d0-ad3d-688b5db5e2f9",
   "metadata": {
    "outputsMetadata": {
     "0": {
      "height": 322,
      "type": "dataFrame"
     }
    }
   },
   "outputs": [
    {
     "data": {
      "text/html": [
       "<div>\n",
       "<style scoped>\n",
       "    .dataframe tbody tr th:only-of-type {\n",
       "        vertical-align: middle;\n",
       "    }\n",
       "\n",
       "    .dataframe tbody tr th {\n",
       "        vertical-align: top;\n",
       "    }\n",
       "\n",
       "    .dataframe thead th {\n",
       "        text-align: right;\n",
       "    }\n",
       "</style>\n",
       "<table border=\"1\" class=\"dataframe\">\n",
       "  <thead>\n",
       "    <tr style=\"text-align: right;\">\n",
       "      <th>booking_status</th>\n",
       "      <th>0</th>\n",
       "      <th>1</th>\n",
       "      <th>All</th>\n",
       "    </tr>\n",
       "    <tr>\n",
       "      <th>avg_price_per_room</th>\n",
       "      <th></th>\n",
       "      <th></th>\n",
       "      <th></th>\n",
       "    </tr>\n",
       "  </thead>\n",
       "  <tbody>\n",
       "    <tr>\n",
       "      <th>0.0</th>\n",
       "      <td>0.015049</td>\n",
       "      <td>0.000073</td>\n",
       "      <td>0.015121</td>\n",
       "    </tr>\n",
       "    <tr>\n",
       "      <th>0.5</th>\n",
       "      <td>0.000036</td>\n",
       "      <td>0.000000</td>\n",
       "      <td>0.000036</td>\n",
       "    </tr>\n",
       "    <tr>\n",
       "      <th>1.0</th>\n",
       "      <td>0.000291</td>\n",
       "      <td>0.000000</td>\n",
       "      <td>0.000291</td>\n",
       "    </tr>\n",
       "    <tr>\n",
       "      <th>1.48</th>\n",
       "      <td>0.000036</td>\n",
       "      <td>0.000000</td>\n",
       "      <td>0.000036</td>\n",
       "    </tr>\n",
       "    <tr>\n",
       "      <th>1.6</th>\n",
       "      <td>0.000036</td>\n",
       "      <td>0.000000</td>\n",
       "      <td>0.000036</td>\n",
       "    </tr>\n",
       "    <tr>\n",
       "      <th>...</th>\n",
       "      <td>...</td>\n",
       "      <td>...</td>\n",
       "      <td>...</td>\n",
       "    </tr>\n",
       "    <tr>\n",
       "      <th>349.63</th>\n",
       "      <td>0.000036</td>\n",
       "      <td>0.000000</td>\n",
       "      <td>0.000036</td>\n",
       "    </tr>\n",
       "    <tr>\n",
       "      <th>365.0</th>\n",
       "      <td>0.000000</td>\n",
       "      <td>0.000036</td>\n",
       "      <td>0.000036</td>\n",
       "    </tr>\n",
       "    <tr>\n",
       "      <th>375.5</th>\n",
       "      <td>0.000036</td>\n",
       "      <td>0.000000</td>\n",
       "      <td>0.000036</td>\n",
       "    </tr>\n",
       "    <tr>\n",
       "      <th>540.0</th>\n",
       "      <td>0.000000</td>\n",
       "      <td>0.000036</td>\n",
       "      <td>0.000036</td>\n",
       "    </tr>\n",
       "    <tr>\n",
       "      <th>All</th>\n",
       "      <td>0.672495</td>\n",
       "      <td>0.327505</td>\n",
       "      <td>1.000000</td>\n",
       "    </tr>\n",
       "  </tbody>\n",
       "</table>\n",
       "<p>3412 rows × 3 columns</p>\n",
       "</div>"
      ],
      "text/plain": [
       "booking_status             0         1       All\n",
       "avg_price_per_room                              \n",
       "0.0                 0.015049  0.000073  0.015121\n",
       "0.5                 0.000036  0.000000  0.000036\n",
       "1.0                 0.000291  0.000000  0.000291\n",
       "1.48                0.000036  0.000000  0.000036\n",
       "1.6                 0.000036  0.000000  0.000036\n",
       "...                      ...       ...       ...\n",
       "349.63              0.000036  0.000000  0.000036\n",
       "365.0               0.000000  0.000036  0.000036\n",
       "375.5               0.000036  0.000000  0.000036\n",
       "540.0               0.000000  0.000036  0.000036\n",
       "All                 0.672495  0.327505  1.000000\n",
       "\n",
       "[3412 rows x 3 columns]"
      ]
     },
     "execution_count": 130,
     "metadata": {},
     "output_type": "execute_result"
    }
   ],
   "source": [
    "pd.crosstab(index=hotels['avg_price_per_room'],columns=hotels['booking_status'],normalize=True,margins=True)"
   ]
  },
  {
   "cell_type": "code",
   "execution_count": 131,
   "id": "255ce01e-0072-43b6-aca4-68551d103eba",
   "metadata": {},
   "outputs": [
    {
     "data": {
      "image/png": "[encoded data removed]",
      "text/plain": [
       "<Figure size 640x480 with 1 Axes>"
      ]
     },
     "metadata": {},
     "output_type": "display_data"
    }
   ],
   "source": [
    "plt.hist(hotels[\"avg_price_per_room\"]);\n"
   ]
  },
  {
   "cell_type": "markdown",
   "id": "1c2686d0-9427-41e5-afcf-0fcc3b679180",
   "metadata": {},
   "source": [
    "Most bookings price is between 50-100\n",
    "\n",
    "Average price isn't greater than 300"
   ]
  },
  {
   "cell_type": "code",
   "execution_count": 132,
   "id": "496a5e79-c9ae-4cbb-aeb9-3160d20df7f6",
   "metadata": {
    "outputsMetadata": {
     "0": {
      "height": 247,
      "type": "dataFrame"
     }
    }
   },
   "outputs": [
    {
     "data": {
      "text/html": [
       "<div>\n",
       "<style scoped>\n",
       "    .dataframe tbody tr th:only-of-type {\n",
       "        vertical-align: middle;\n",
       "    }\n",
       "\n",
       "    .dataframe tbody tr th {\n",
       "        vertical-align: top;\n",
       "    }\n",
       "\n",
       "    .dataframe thead th {\n",
       "        text-align: right;\n",
       "    }\n",
       "</style>\n",
       "<table border=\"1\" class=\"dataframe\">\n",
       "  <thead>\n",
       "    <tr style=\"text-align: right;\">\n",
       "      <th>booking_status</th>\n",
       "      <th>0</th>\n",
       "      <th>1</th>\n",
       "      <th>All</th>\n",
       "    </tr>\n",
       "    <tr>\n",
       "      <th>no_of_special_requests</th>\n",
       "      <th></th>\n",
       "      <th></th>\n",
       "      <th></th>\n",
       "    </tr>\n",
       "  </thead>\n",
       "  <tbody>\n",
       "    <tr>\n",
       "      <th>0</th>\n",
       "      <td>0.309004</td>\n",
       "      <td>0.236087</td>\n",
       "      <td>0.545091</td>\n",
       "    </tr>\n",
       "    <tr>\n",
       "      <th>1</th>\n",
       "      <td>0.238886</td>\n",
       "      <td>0.073970</td>\n",
       "      <td>0.312857</td>\n",
       "    </tr>\n",
       "    <tr>\n",
       "      <th>2</th>\n",
       "      <td>0.104467</td>\n",
       "      <td>0.017448</td>\n",
       "      <td>0.121915</td>\n",
       "    </tr>\n",
       "    <tr>\n",
       "      <th>3</th>\n",
       "      <td>0.017884</td>\n",
       "      <td>0.000000</td>\n",
       "      <td>0.017884</td>\n",
       "    </tr>\n",
       "    <tr>\n",
       "      <th>4</th>\n",
       "      <td>0.001999</td>\n",
       "      <td>0.000000</td>\n",
       "      <td>0.001999</td>\n",
       "    </tr>\n",
       "    <tr>\n",
       "      <th>5</th>\n",
       "      <td>0.000254</td>\n",
       "      <td>0.000000</td>\n",
       "      <td>0.000254</td>\n",
       "    </tr>\n",
       "    <tr>\n",
       "      <th>All</th>\n",
       "      <td>0.672495</td>\n",
       "      <td>0.327505</td>\n",
       "      <td>1.000000</td>\n",
       "    </tr>\n",
       "  </tbody>\n",
       "</table>\n",
       "</div>"
      ],
      "text/plain": [
       "booking_status                 0         1       All\n",
       "no_of_special_requests                              \n",
       "0                       0.309004  0.236087  0.545091\n",
       "1                       0.238886  0.073970  0.312857\n",
       "2                       0.104467  0.017448  0.121915\n",
       "3                       0.017884  0.000000  0.017884\n",
       "4                       0.001999  0.000000  0.001999\n",
       "5                       0.000254  0.000000  0.000254\n",
       "All                     0.672495  0.327505  1.000000"
      ]
     },
     "execution_count": 132,
     "metadata": {},
     "output_type": "execute_result"
    }
   ],
   "source": [
    "pd.crosstab(index=hotels['no_of_special_requests'],columns=hotels['booking_status'],normalize=True,margins=True)"
   ]
  },
  {
   "cell_type": "markdown",
   "id": "82f6601e-e491-400e-a455-b350f18216fd",
   "metadata": {},
   "source": [
    "Approximately 55% of the bookings has no speacial request\n",
    "\n",
    "The probability of bookings being canceled with no speacial request is 24%"
   ]
  },
  {
   "cell_type": "code",
   "execution_count": 133,
   "id": "3d995393-f652-4a2d-b9c2-ef9bc1791066",
   "metadata": {},
   "outputs": [
    {
     "data": {
      "image/png": "[encoded data removed]",
      "text/plain": [
       "<Figure size 640x480 with 2 Axes>"
      ]
     },
     "metadata": {},
     "output_type": "display_data"
    }
   ],
   "source": [
    "# Create correlation matrix\n",
    "correlation = hotels.select_dtypes(\"number\").drop(columns=\"booking_status\").corr()\n",
    "\n",
    "# Plot heatmap of `correlation`\n",
    "sns.heatmap(correlation);"
   ]
  },
  {
   "cell_type": "markdown",
   "id": "81e0a1c0-ee9c-40b1-98b7-6bf8c7bca957",
   "metadata": {},
   "source": [
    "**Observation**\n",
    "\n",
    "'no_of_previous_bookings_not_canceled' and 'repeated guest' have strong correlation. therefore one needs to be drop.\n",
    "\n"
   ]
  },
  {
   "cell_type": "code",
   "execution_count": 134,
   "id": "d29ab4c4-09cb-4ed2-85cf-9b60f0974acb",
   "metadata": {},
   "outputs": [
    {
     "data": {
      "text/plain": [
       "-0.060536493121325356"
      ]
     },
     "execution_count": 134,
     "metadata": {},
     "output_type": "execute_result"
    }
   ],
   "source": [
    "hotels['booking_status'].corr(hotels['no_of_previous_bookings_not_canceled'])"
   ]
  },
  {
   "cell_type": "code",
   "execution_count": 135,
   "id": "3613e760-b5a8-47bb-a432-bfdb929ba3dc",
   "metadata": {},
   "outputs": [
    {
     "data": {
      "text/plain": [
       "-0.10955117289639478"
      ]
     },
     "execution_count": 135,
     "metadata": {},
     "output_type": "execute_result"
    }
   ],
   "source": [
    "hotels['booking_status'].corr(hotels['repeated_guest'])"
   ]
  },
  {
   "cell_type": "markdown",
   "id": "a4749023-0b3c-4256-a4f9-b30268f1053c",
   "metadata": {},
   "source": [
    "I decide which one to drop by checking the correlation of each with 'booking_status' and so the one that has strong correlation with booking status will be drop and that happens to be 'repeated_guest'"
   ]
  },
  {
   "cell_type": "code",
   "execution_count": 136,
   "id": "5787b7f8-600c-48c9-ab0f-f67fe5b1a4a0",
   "metadata": {},
   "outputs": [],
   "source": [
    "#drop multicolinearity columns\n",
    "\n",
    "hotels.drop(columns=['repeated_guest'], inplace=True)"
   ]
  },
  {
   "cell_type": "code",
   "execution_count": 137,
   "id": "2b4b939f-c8e6-493d-9bca-2c15d73ff21f",
   "metadata": {},
   "outputs": [
    {
     "data": {
      "image/png": "[encoded data removed]",
      "text/plain": [
       "<Figure size 640x480 with 2 Axes>"
      ]
     },
     "metadata": {},
     "output_type": "display_data"
    }
   ],
   "source": [
    "# Create correlation matrix\n",
    "correlation = hotels.select_dtypes(\"number\").drop(columns=\"booking_status\").corr()\n",
    "\n",
    "# Plot heatmap of `correlation`\n",
    "sns.heatmap(correlation);"
   ]
  },
  {
   "cell_type": "markdown",
   "id": "7bf14c80-5da6-403e-ba85-5cbef6b7ffa0",
   "metadata": {},
   "source": [
    "The heatmap above shows that issue of Multicolinearity has been solved"
   ]
  },
  {
   "cell_type": "code",
   "execution_count": 138,
   "id": "847b2512-2dc3-444f-b46e-46789a198875",
   "metadata": {},
   "outputs": [],
   "source": [
    "#drop leaky column\n",
    "hotels.drop(columns=['no_of_previous_cancellations'], inplace = True)\n"
   ]
  },
  {
   "cell_type": "markdown",
   "id": "f803e9f8-928c-4303-844d-14f3fb7cf029",
   "metadata": {},
   "source": [
    "**Building model**"
   ]
  },
  {
   "cell_type": "code",
   "execution_count": 139,
   "id": "bebb68f6-ed6d-4bac-9b6d-bd8d10b37abb",
   "metadata": {},
   "outputs": [],
   "source": [
    "target = \"booking_status\"\n",
    "X = hotels.drop(columns=target)\n",
    "y = hotels[target]"
   ]
  },
  {
   "cell_type": "code",
   "execution_count": 140,
   "id": "096dc2d2-beb4-41c1-8e00-da1140c6a497",
   "metadata": {},
   "outputs": [],
   "source": [
    "X_train, X_test, y_train, y_test = train_test_split(\n",
    "    X, y, test_size=0.2, random_state=42\n",
    "    \n",
    ")"
   ]
  },
  {
   "cell_type": "code",
   "execution_count": 141,
   "id": "7c36d892-5eb2-4429-8566-376b2cdc4a74",
   "metadata": {},
   "outputs": [],
   "source": [
    "X_train, X_val, y_train, y_val = train_test_split(\n",
    "    X_train, y_train, test_size=0.2, random_state=42\n",
    ")"
   ]
  },
  {
   "cell_type": "code",
   "execution_count": 142,
   "id": "94153981-0a11-4273-9a50-04d677d50552",
   "metadata": {
    "outputsMetadata": {
     "0": {
      "height": 38,
      "type": "stream"
     }
    }
   },
   "outputs": [
    {
     "name": "stdout",
     "output_type": "stream",
     "text": [
      "Baseline Accuracy: 0.68\n"
     ]
    }
   ],
   "source": [
    "acc_baseline =y_train.value_counts(normalize=True).max()\n",
    "print(\"Baseline Accuracy:\", round(acc_baseline, 2))"
   ]
  },
  {
   "cell_type": "code",
   "execution_count": 143,
   "id": "ecbe0e4a-6234-4db5-9b67-59f5bf741142",
   "metadata": {},
   "outputs": [
    {
     "name": "stderr",
     "output_type": "stream",
     "text": [
      "C:\\Users\\User\\anaconda3\\envs\\adun\\Lib\\site-packages\\sklearn\\linear_model\\_logistic.py:469: ConvergenceWarning: lbfgs failed to converge (status=1):\n",
      "STOP: TOTAL NO. of ITERATIONS REACHED LIMIT.\n",
      "\n",
      "Increase the number of iterations (max_iter) or scale the data as shown in:\n",
      "    https://scikit-learn.org/stable/modules/preprocessing.html\n",
      "Please also refer to the documentation for alternative solver options:\n",
      "    https://scikit-learn.org/stable/modules/linear_model.html#logistic-regression\n",
      "  n_iter_i = _check_optimize_result(\n"
     ]
    },
    {
     "data": {
      "text/html": [
       "<style>#sk-container-id-2 {\n",
       "  /* Definition of color scheme common for light and dark mode */\n",
       "  --sklearn-color-text: black;\n",
       "  --sklearn-color-line: gray;\n",
       "  /* Definition of color scheme for unfitted estimators */\n",
       "  --sklearn-color-unfitted-level-0: #fff5e6;\n",
       "  --sklearn-color-unfitted-level-1: #f6e4d2;\n",
       "  --sklearn-color-unfitted-level-2: #ffe0b3;\n",
       "  --sklearn-color-unfitted-level-3: chocolate;\n",
       "  /* Definition of color scheme for fitted estimators */\n",
       "  --sklearn-color-fitted-level-0: #f0f8ff;\n",
       "  --sklearn-color-fitted-level-1: #d4ebff;\n",
       "  --sklearn-color-fitted-level-2: #b3dbfd;\n",
       "  --sklearn-color-fitted-level-3: cornflowerblue;\n",
       "\n",
       "  /* Specific color for light theme */\n",
       "  --sklearn-color-text-on-default-background: var(--sg-text-color, var(--theme-code-foreground, var(--jp-content-font-color1, black)));\n",
       "  --sklearn-color-background: var(--sg-background-color, var(--theme-background, var(--jp-layout-color0, white)));\n",
       "  --sklearn-color-border-box: var(--sg-text-color, var(--theme-code-foreground, var(--jp-content-font-color1, black)));\n",
       "  --sklearn-color-icon: #696969;\n",
       "\n",
       "  @media (prefers-color-scheme: dark) {\n",
       "    /* Redefinition of color scheme for dark theme */\n",
       "    --sklearn-color-text-on-default-background: var(--sg-text-color, var(--theme-code-foreground, var(--jp-content-font-color1, white)));\n",
       "    --sklearn-color-background: var(--sg-background-color, var(--theme-background, var(--jp-layout-color0, #111)));\n",
       "    --sklearn-color-border-box: var(--sg-text-color, var(--theme-code-foreground, var(--jp-content-font-color1, white)));\n",
       "    --sklearn-color-icon: #878787;\n",
       "  }\n",
       "}\n",
       "\n",
       "#sk-container-id-2 {\n",
       "  color: var(--sklearn-color-text);\n",
       "}\n",
       "\n",
       "#sk-container-id-2 pre {\n",
       "  padding: 0;\n",
       "}\n",
       "\n",
       "#sk-container-id-2 input.sk-hidden--visually {\n",
       "  border: 0;\n",
       "  clip: rect(1px 1px 1px 1px);\n",
       "  clip: rect(1px, 1px, 1px, 1px);\n",
       "  height: 1px;\n",
       "  margin: -1px;\n",
       "  overflow: hidden;\n",
       "  padding: 0;\n",
       "  position: absolute;\n",
       "  width: 1px;\n",
       "}\n",
       "\n",
       "#sk-container-id-2 div.sk-dashed-wrapped {\n",
       "  border: 1px dashed var(--sklearn-color-line);\n",
       "  margin: 0 0.4em 0.5em 0.4em;\n",
       "  box-sizing: border-box;\n",
       "  padding-bottom: 0.4em;\n",
       "  background-color: var(--sklearn-color-background);\n",
       "}\n",
       "\n",
       "#sk-container-id-2 div.sk-container {\n",
       "  /* jupyter's `normalize.less` sets `[hidden] { display: none; }`\n",
       "     but bootstrap.min.css set `[hidden] { display: none !important; }`\n",
       "     so we also need the `!important` here to be able to override the\n",
       "     default hidden behavior on the sphinx rendered scikit-learn.org.\n",
       "     See: https://github.com/scikit-learn/scikit-learn/issues/21755 */\n",
       "  display: inline-block !important;\n",
       "  position: relative;\n",
       "}\n",
       "\n",
       "#sk-container-id-2 div.sk-text-repr-fallback {\n",
       "  display: none;\n",
       "}\n",
       "\n",
       "div.sk-parallel-item,\n",
       "div.sk-serial,\n",
       "div.sk-item {\n",
       "  /* draw centered vertical line to link estimators */\n",
       "  background-image: linear-gradient(var(--sklearn-color-text-on-default-background), var(--sklearn-color-text-on-default-background));\n",
       "  background-size: 2px 100%;\n",
       "  background-repeat: no-repeat;\n",
       "  background-position: center center;\n",
       "}\n",
       "\n",
       "/* Parallel-specific style estimator block */\n",
       "\n",
       "#sk-container-id-2 div.sk-parallel-item::after {\n",
       "  content: \"\";\n",
       "  width: 100%;\n",
       "  border-bottom: 2px solid var(--sklearn-color-text-on-default-background);\n",
       "  flex-grow: 1;\n",
       "}\n",
       "\n",
       "#sk-container-id-2 div.sk-parallel {\n",
       "  display: flex;\n",
       "  align-items: stretch;\n",
       "  justify-content: center;\n",
       "  background-color: var(--sklearn-color-background);\n",
       "  position: relative;\n",
       "}\n",
       "\n",
       "#sk-container-id-2 div.sk-parallel-item {\n",
       "  display: flex;\n",
       "  flex-direction: column;\n",
       "}\n",
       "\n",
       "#sk-container-id-2 div.sk-parallel-item:first-child::after {\n",
       "  align-self: flex-end;\n",
       "  width: 50%;\n",
       "}\n",
       "\n",
       "#sk-container-id-2 div.sk-parallel-item:last-child::after {\n",
       "  align-self: flex-start;\n",
       "  width: 50%;\n",
       "}\n",
       "\n",
       "#sk-container-id-2 div.sk-parallel-item:only-child::after {\n",
       "  width: 0;\n",
       "}\n",
       "\n",
       "/* Serial-specific style estimator block */\n",
       "\n",
       "#sk-container-id-2 div.sk-serial {\n",
       "  display: flex;\n",
       "  flex-direction: column;\n",
       "  align-items: center;\n",
       "  background-color: var(--sklearn-color-background);\n",
       "  padding-right: 1em;\n",
       "  padding-left: 1em;\n",
       "}\n",
       "\n",
       "\n",
       "/* Toggleable style: style used for estimator/Pipeline/ColumnTransformer box that is\n",
       "clickable and can be expanded/collapsed.\n",
       "- Pipeline and ColumnTransformer use this feature and define the default style\n",
       "- Estimators will overwrite some part of the style using the `sk-estimator` class\n",
       "*/\n",
       "\n",
       "/* Pipeline and ColumnTransformer style (default) */\n",
       "\n",
       "#sk-container-id-2 div.sk-toggleable {\n",
       "  /* Default theme specific background. It is overwritten whether we have a\n",
       "  specific estimator or a Pipeline/ColumnTransformer */\n",
       "  background-color: var(--sklearn-color-background);\n",
       "}\n",
       "\n",
       "/* Toggleable label */\n",
       "#sk-container-id-2 label.sk-toggleable__label {\n",
       "  cursor: pointer;\n",
       "  display: block;\n",
       "  width: 100%;\n",
       "  margin-bottom: 0;\n",
       "  padding: 0.5em;\n",
       "  box-sizing: border-box;\n",
       "  text-align: center;\n",
       "}\n",
       "\n",
       "#sk-container-id-2 label.sk-toggleable__label-arrow:before {\n",
       "  /* Arrow on the left of the label */\n",
       "  content: \"▸\";\n",
       "  float: left;\n",
       "  margin-right: 0.25em;\n",
       "  color: var(--sklearn-color-icon);\n",
       "}\n",
       "\n",
       "#sk-container-id-2 label.sk-toggleable__label-arrow:hover:before {\n",
       "  color: var(--sklearn-color-text);\n",
       "}\n",
       "\n",
       "/* Toggleable content - dropdown */\n",
       "\n",
       "#sk-container-id-2 div.sk-toggleable__content {\n",
       "  max-height: 0;\n",
       "  max-width: 0;\n",
       "  overflow: hidden;\n",
       "  text-align: left;\n",
       "  /* unfitted */\n",
       "  background-color: var(--sklearn-color-unfitted-level-0);\n",
       "}\n",
       "\n",
       "#sk-container-id-2 div.sk-toggleable__content.fitted {\n",
       "  /* fitted */\n",
       "  background-color: var(--sklearn-color-fitted-level-0);\n",
       "}\n",
       "\n",
       "#sk-container-id-2 div.sk-toggleable__content pre {\n",
       "  margin: 0.2em;\n",
       "  border-radius: 0.25em;\n",
       "  color: var(--sklearn-color-text);\n",
       "  /* unfitted */\n",
       "  background-color: var(--sklearn-color-unfitted-level-0);\n",
       "}\n",
       "\n",
       "#sk-container-id-2 div.sk-toggleable__content.fitted pre {\n",
       "  /* unfitted */\n",
       "  background-color: var(--sklearn-color-fitted-level-0);\n",
       "}\n",
       "\n",
       "#sk-container-id-2 input.sk-toggleable__control:checked~div.sk-toggleable__content {\n",
       "  /* Expand drop-down */\n",
       "  max-height: 200px;\n",
       "  max-width: 100%;\n",
       "  overflow: auto;\n",
       "}\n",
       "\n",
       "#sk-container-id-2 input.sk-toggleable__control:checked~label.sk-toggleable__label-arrow:before {\n",
       "  content: \"▾\";\n",
       "}\n",
       "\n",
       "/* Pipeline/ColumnTransformer-specific style */\n",
       "\n",
       "#sk-container-id-2 div.sk-label input.sk-toggleable__control:checked~label.sk-toggleable__label {\n",
       "  color: var(--sklearn-color-text);\n",
       "  background-color: var(--sklearn-color-unfitted-level-2);\n",
       "}\n",
       "\n",
       "#sk-container-id-2 div.sk-label.fitted input.sk-toggleable__control:checked~label.sk-toggleable__label {\n",
       "  background-color: var(--sklearn-color-fitted-level-2);\n",
       "}\n",
       "\n",
       "/* Estimator-specific style */\n",
       "\n",
       "/* Colorize estimator box */\n",
       "#sk-container-id-2 div.sk-estimator input.sk-toggleable__control:checked~label.sk-toggleable__label {\n",
       "  /* unfitted */\n",
       "  background-color: var(--sklearn-color-unfitted-level-2);\n",
       "}\n",
       "\n",
       "#sk-container-id-2 div.sk-estimator.fitted input.sk-toggleable__control:checked~label.sk-toggleable__label {\n",
       "  /* fitted */\n",
       "  background-color: var(--sklearn-color-fitted-level-2);\n",
       "}\n",
       "\n",
       "#sk-container-id-2 div.sk-label label.sk-toggleable__label,\n",
       "#sk-container-id-2 div.sk-label label {\n",
       "  /* The background is the default theme color */\n",
       "  color: var(--sklearn-color-text-on-default-background);\n",
       "}\n",
       "\n",
       "/* On hover, darken the color of the background */\n",
       "#sk-container-id-2 div.sk-label:hover label.sk-toggleable__label {\n",
       "  color: var(--sklearn-color-text);\n",
       "  background-color: var(--sklearn-color-unfitted-level-2);\n",
       "}\n",
       "\n",
       "/* Label box, darken color on hover, fitted */\n",
       "#sk-container-id-2 div.sk-label.fitted:hover label.sk-toggleable__label.fitted {\n",
       "  color: var(--sklearn-color-text);\n",
       "  background-color: var(--sklearn-color-fitted-level-2);\n",
       "}\n",
       "\n",
       "/* Estimator label */\n",
       "\n",
       "#sk-container-id-2 div.sk-label label {\n",
       "  font-family: monospace;\n",
       "  font-weight: bold;\n",
       "  display: inline-block;\n",
       "  line-height: 1.2em;\n",
       "}\n",
       "\n",
       "#sk-container-id-2 div.sk-label-container {\n",
       "  text-align: center;\n",
       "}\n",
       "\n",
       "/* Estimator-specific */\n",
       "#sk-container-id-2 div.sk-estimator {\n",
       "  font-family: monospace;\n",
       "  border: 1px dotted var(--sklearn-color-border-box);\n",
       "  border-radius: 0.25em;\n",
       "  box-sizing: border-box;\n",
       "  margin-bottom: 0.5em;\n",
       "  /* unfitted */\n",
       "  background-color: var(--sklearn-color-unfitted-level-0);\n",
       "}\n",
       "\n",
       "#sk-container-id-2 div.sk-estimator.fitted {\n",
       "  /* fitted */\n",
       "  background-color: var(--sklearn-color-fitted-level-0);\n",
       "}\n",
       "\n",
       "/* on hover */\n",
       "#sk-container-id-2 div.sk-estimator:hover {\n",
       "  /* unfitted */\n",
       "  background-color: var(--sklearn-color-unfitted-level-2);\n",
       "}\n",
       "\n",
       "#sk-container-id-2 div.sk-estimator.fitted:hover {\n",
       "  /* fitted */\n",
       "  background-color: var(--sklearn-color-fitted-level-2);\n",
       "}\n",
       "\n",
       "/* Specification for estimator info (e.g. \"i\" and \"?\") */\n",
       "\n",
       "/* Common style for \"i\" and \"?\" */\n",
       "\n",
       ".sk-estimator-doc-link,\n",
       "a:link.sk-estimator-doc-link,\n",
       "a:visited.sk-estimator-doc-link {\n",
       "  float: right;\n",
       "  font-size: smaller;\n",
       "  line-height: 1em;\n",
       "  font-family: monospace;\n",
       "  background-color: var(--sklearn-color-background);\n",
       "  border-radius: 1em;\n",
       "  height: 1em;\n",
       "  width: 1em;\n",
       "  text-decoration: none !important;\n",
       "  margin-left: 1ex;\n",
       "  /* unfitted */\n",
       "  border: var(--sklearn-color-unfitted-level-1) 1pt solid;\n",
       "  color: var(--sklearn-color-unfitted-level-1);\n",
       "}\n",
       "\n",
       ".sk-estimator-doc-link.fitted,\n",
       "a:link.sk-estimator-doc-link.fitted,\n",
       "a:visited.sk-estimator-doc-link.fitted {\n",
       "  /* fitted */\n",
       "  border: var(--sklearn-color-fitted-level-1) 1pt solid;\n",
       "  color: var(--sklearn-color-fitted-level-1);\n",
       "}\n",
       "\n",
       "/* On hover */\n",
       "div.sk-estimator:hover .sk-estimator-doc-link:hover,\n",
       ".sk-estimator-doc-link:hover,\n",
       "div.sk-label-container:hover .sk-estimator-doc-link:hover,\n",
       ".sk-estimator-doc-link:hover {\n",
       "  /* unfitted */\n",
       "  background-color: var(--sklearn-color-unfitted-level-3);\n",
       "  color: var(--sklearn-color-background);\n",
       "  text-decoration: none;\n",
       "}\n",
       "\n",
       "div.sk-estimator.fitted:hover .sk-estimator-doc-link.fitted:hover,\n",
       ".sk-estimator-doc-link.fitted:hover,\n",
       "div.sk-label-container:hover .sk-estimator-doc-link.fitted:hover,\n",
       ".sk-estimator-doc-link.fitted:hover {\n",
       "  /* fitted */\n",
       "  background-color: var(--sklearn-color-fitted-level-3);\n",
       "  color: var(--sklearn-color-background);\n",
       "  text-decoration: none;\n",
       "}\n",
       "\n",
       "/* Span, style for the box shown on hovering the info icon */\n",
       ".sk-estimator-doc-link span {\n",
       "  display: none;\n",
       "  z-index: 9999;\n",
       "  position: relative;\n",
       "  font-weight: normal;\n",
       "  right: .2ex;\n",
       "  padding: .5ex;\n",
       "  margin: .5ex;\n",
       "  width: min-content;\n",
       "  min-width: 20ex;\n",
       "  max-width: 50ex;\n",
       "  color: var(--sklearn-color-text);\n",
       "  box-shadow: 2pt 2pt 4pt #999;\n",
       "  /* unfitted */\n",
       "  background: var(--sklearn-color-unfitted-level-0);\n",
       "  border: .5pt solid var(--sklearn-color-unfitted-level-3);\n",
       "}\n",
       "\n",
       ".sk-estimator-doc-link.fitted span {\n",
       "  /* fitted */\n",
       "  background: var(--sklearn-color-fitted-level-0);\n",
       "  border: var(--sklearn-color-fitted-level-3);\n",
       "}\n",
       "\n",
       ".sk-estimator-doc-link:hover span {\n",
       "  display: block;\n",
       "}\n",
       "\n",
       "/* \"?\"-specific style due to the `<a>` HTML tag */\n",
       "\n",
       "#sk-container-id-2 a.estimator_doc_link {\n",
       "  float: right;\n",
       "  font-size: 1rem;\n",
       "  line-height: 1em;\n",
       "  font-family: monospace;\n",
       "  background-color: var(--sklearn-color-background);\n",
       "  border-radius: 1rem;\n",
       "  height: 1rem;\n",
       "  width: 1rem;\n",
       "  text-decoration: none;\n",
       "  /* unfitted */\n",
       "  color: var(--sklearn-color-unfitted-level-1);\n",
       "  border: var(--sklearn-color-unfitted-level-1) 1pt solid;\n",
       "}\n",
       "\n",
       "#sk-container-id-2 a.estimator_doc_link.fitted {\n",
       "  /* fitted */\n",
       "  border: var(--sklearn-color-fitted-level-1) 1pt solid;\n",
       "  color: var(--sklearn-color-fitted-level-1);\n",
       "}\n",
       "\n",
       "/* On hover */\n",
       "#sk-container-id-2 a.estimator_doc_link:hover {\n",
       "  /* unfitted */\n",
       "  background-color: var(--sklearn-color-unfitted-level-3);\n",
       "  color: var(--sklearn-color-background);\n",
       "  text-decoration: none;\n",
       "}\n",
       "\n",
       "#sk-container-id-2 a.estimator_doc_link.fitted:hover {\n",
       "  /* fitted */\n",
       "  background-color: var(--sklearn-color-fitted-level-3);\n",
       "}\n",
       "</style><div id=\"sk-container-id-2\" class=\"sk-top-container\"><div class=\"sk-text-repr-fallback\"><pre>Pipeline(steps=[(&#x27;ordinalencoder&#x27;,\n",
       "                 OrdinalEncoder(handle_unknown=&#x27;use_encoded_value&#x27;,\n",
       "                                unknown_value=-1)),\n",
       "                (&#x27;logisticregression&#x27;, LogisticRegression(max_iter=1000))])</pre><b>In a Jupyter environment, please rerun this cell to show the HTML representation or trust the notebook. <br />On GitHub, the HTML representation is unable to render, please try loading this page with nbviewer.org.</b></div><div class=\"sk-container\" hidden><div class=\"sk-item sk-dashed-wrapped\"><div class=\"sk-label-container\"><div class=\"sk-label fitted sk-toggleable\"><input class=\"sk-toggleable__control sk-hidden--visually\" id=\"sk-estimator-id-4\" type=\"checkbox\" ><label for=\"sk-estimator-id-4\" class=\"sk-toggleable__label fitted sk-toggleable__label-arrow fitted\">&nbsp;&nbsp;Pipeline<a class=\"sk-estimator-doc-link fitted\" rel=\"noreferrer\" target=\"_blank\" href=\"https://scikit-learn.org/1.4/modules/generated/sklearn.pipeline.Pipeline.html\">?<span>Documentation for Pipeline</span></a><span class=\"sk-estimator-doc-link fitted\">i<span>Fitted</span></span></label><div class=\"sk-toggleable__content fitted\"><pre>Pipeline(steps=[(&#x27;ordinalencoder&#x27;,\n",
       "                 OrdinalEncoder(handle_unknown=&#x27;use_encoded_value&#x27;,\n",
       "                                unknown_value=-1)),\n",
       "                (&#x27;logisticregression&#x27;, LogisticRegression(max_iter=1000))])</pre></div> </div></div><div class=\"sk-serial\"><div class=\"sk-item\"><div class=\"sk-estimator fitted sk-toggleable\"><input class=\"sk-toggleable__control sk-hidden--visually\" id=\"sk-estimator-id-5\" type=\"checkbox\" ><label for=\"sk-estimator-id-5\" class=\"sk-toggleable__label fitted sk-toggleable__label-arrow fitted\">&nbsp;OrdinalEncoder<a class=\"sk-estimator-doc-link fitted\" rel=\"noreferrer\" target=\"_blank\" href=\"https://scikit-learn.org/1.4/modules/generated/sklearn.preprocessing.OrdinalEncoder.html\">?<span>Documentation for OrdinalEncoder</span></a></label><div class=\"sk-toggleable__content fitted\"><pre>OrdinalEncoder(handle_unknown=&#x27;use_encoded_value&#x27;, unknown_value=-1)</pre></div> </div></div><div class=\"sk-item\"><div class=\"sk-estimator fitted sk-toggleable\"><input class=\"sk-toggleable__control sk-hidden--visually\" id=\"sk-estimator-id-6\" type=\"checkbox\" ><label for=\"sk-estimator-id-6\" class=\"sk-toggleable__label fitted sk-toggleable__label-arrow fitted\">&nbsp;LogisticRegression<a class=\"sk-estimator-doc-link fitted\" rel=\"noreferrer\" target=\"_blank\" href=\"https://scikit-learn.org/1.4/modules/generated/sklearn.linear_model.LogisticRegression.html\">?<span>Documentation for LogisticRegression</span></a></label><div class=\"sk-toggleable__content fitted\"><pre>LogisticRegression(max_iter=1000)</pre></div> </div></div></div></div></div></div>"
      ],
      "text/plain": [
       "Pipeline(steps=[('ordinalencoder',\n",
       "                 OrdinalEncoder(handle_unknown='use_encoded_value',\n",
       "                                unknown_value=-1)),\n",
       "                ('logisticregression', LogisticRegression(max_iter=1000))])"
      ]
     },
     "execution_count": 143,
     "metadata": {},
     "output_type": "execute_result"
    }
   ],
   "source": [
    "# Build model\n",
    "model = make_pipeline(\n",
    "    preprocessing.OrdinalEncoder(handle_unknown='use_encoded_value', unknown_value=-1),\n",
    "    LogisticRegression(max_iter=1000)\n",
    ")\n",
    "# Fit model to training data\n",
    "model.fit(X_train, y_train)"
   ]
  },
  {
   "cell_type": "code",
   "execution_count": 144,
   "id": "468ac450-b9a6-4bba-890f-107f5de07007",
   "metadata": {
    "outputsMetadata": {
     "0": {
      "height": 59,
      "type": "stream"
     }
    }
   },
   "outputs": [
    {
     "name": "stdout",
     "output_type": "stream",
     "text": [
      "Training Accuracy: 0.81\n",
      "Validation Accuracy: 0.8\n"
     ]
    }
   ],
   "source": [
    "acc_train =accuracy_score(y_train, model.predict(X_train))\n",
    "acc_val = model.score(X_val,y_val)\n",
    "\n",
    "print(\"Training Accuracy:\", round(acc_train, 2))\n",
    "print(\"Validation Accuracy:\", round(acc_val, 2))"
   ]
  },
  {
   "cell_type": "code",
   "execution_count": 145,
   "id": "aeb713b7-63c0-4664-ab56-db113c45a92c",
   "metadata": {},
   "outputs": [],
   "source": [
    "Prediction= model.predict(X_test)"
   ]
  },
  {
   "cell_type": "code",
   "execution_count": 146,
   "id": "047c401c-f1d7-4ef6-9448-7ffa2a77de96",
   "metadata": {},
   "outputs": [
    {
     "data": {
      "text/plain": [
       "array([0, 0, 0, ..., 0, 0, 0])"
      ]
     },
     "execution_count": 146,
     "metadata": {},
     "output_type": "execute_result"
    }
   ],
   "source": [
    "Prediction"
   ]
  },
  {
   "cell_type": "code",
   "execution_count": 147,
   "id": "3908c3f5-0c6b-4555-8dcb-be61fbe8f7b5",
   "metadata": {
    "outputsMetadata": {
     "0": {
      "height": 322,
      "type": "dataFrame"
     }
    }
   },
   "outputs": [
    {
     "data": {
      "text/html": [
       "<div>\n",
       "<style scoped>\n",
       "    .dataframe tbody tr th:only-of-type {\n",
       "        vertical-align: middle;\n",
       "    }\n",
       "\n",
       "    .dataframe tbody tr th {\n",
       "        vertical-align: top;\n",
       "    }\n",
       "\n",
       "    .dataframe thead th {\n",
       "        text-align: right;\n",
       "    }\n",
       "</style>\n",
       "<table border=\"1\" class=\"dataframe\">\n",
       "  <thead>\n",
       "    <tr style=\"text-align: right;\">\n",
       "      <th></th>\n",
       "      <th>booking_status</th>\n",
       "    </tr>\n",
       "    <tr>\n",
       "      <th>Booking_ID</th>\n",
       "      <th></th>\n",
       "    </tr>\n",
       "  </thead>\n",
       "  <tbody>\n",
       "    <tr>\n",
       "      <th>INN16742</th>\n",
       "      <td>0</td>\n",
       "    </tr>\n",
       "    <tr>\n",
       "      <th>INN11944</th>\n",
       "      <td>0</td>\n",
       "    </tr>\n",
       "    <tr>\n",
       "      <th>INN33962</th>\n",
       "      <td>0</td>\n",
       "    </tr>\n",
       "    <tr>\n",
       "      <th>INN30461</th>\n",
       "      <td>0</td>\n",
       "    </tr>\n",
       "    <tr>\n",
       "      <th>INN31805</th>\n",
       "      <td>1</td>\n",
       "    </tr>\n",
       "    <tr>\n",
       "      <th>...</th>\n",
       "      <td>...</td>\n",
       "    </tr>\n",
       "    <tr>\n",
       "      <th>INN23697</th>\n",
       "      <td>0</td>\n",
       "    </tr>\n",
       "    <tr>\n",
       "      <th>INN04517</th>\n",
       "      <td>1</td>\n",
       "    </tr>\n",
       "    <tr>\n",
       "      <th>INN21815</th>\n",
       "      <td>0</td>\n",
       "    </tr>\n",
       "    <tr>\n",
       "      <th>INN28359</th>\n",
       "      <td>0</td>\n",
       "    </tr>\n",
       "    <tr>\n",
       "      <th>INN03800</th>\n",
       "      <td>0</td>\n",
       "    </tr>\n",
       "  </tbody>\n",
       "</table>\n",
       "<p>5503 rows × 1 columns</p>\n",
       "</div>"
      ],
      "text/plain": [
       "            booking_status\n",
       "Booking_ID                \n",
       "INN16742                 0\n",
       "INN11944                 0\n",
       "INN33962                 0\n",
       "INN30461                 0\n",
       "INN31805                 1\n",
       "...                    ...\n",
       "INN23697                 0\n",
       "INN04517                 1\n",
       "INN21815                 0\n",
       "INN28359                 0\n",
       "INN03800                 0\n",
       "\n",
       "[5503 rows x 1 columns]"
      ]
     },
     "execution_count": 147,
     "metadata": {},
     "output_type": "execute_result"
    }
   ],
   "source": [
    "submission = pd.DataFrame(index=X_test.index, data=Prediction)\n",
    "submission.columns = [\"booking_status\"]\n",
    "\n",
    "submission"
   ]
  },
  {
   "cell_type": "code",
   "execution_count": 148,
   "id": "67c9da87-d9d3-465c-a032-a5b858b5a4f9",
   "metadata": {
    "outputsMetadata": {
     "0": {
      "height": 122,
      "type": "stream"
     }
    }
   },
   "outputs": [
    {
     "name": "stdout",
     "output_type": "stream",
     "text": [
      "[[0.65121013 0.34878987]\n",
      " [0.90964255 0.09035745]\n",
      " [0.76062011 0.23937989]\n",
      " [0.78627976 0.21372024]\n",
      " [0.12002929 0.87997071]]\n"
     ]
    }
   ],
   "source": [
    "y_test_pred_proba = model.predict_proba(X_test)\n",
    "print(y_test_pred_proba[:5])"
   ]
  },
  {
   "cell_type": "markdown",
   "id": "9e620017-308b-47a3-9bb6-e8c52ad67ede",
   "metadata": {},
   "source": [
    "**REPORT**\n",
    "\n",
    "1. Factors that affects whether customers cancel their booking\n",
    "\n",
    "\n",
    "- Previous Cancellation affect whether a customers cancel their booking and mostly Customers with 0 previous cancellation contribute majorly to current cancellation with up to 32.7%\n",
    "\n",
    "\n",
    "\n",
    "- 2 'no_of_adult' caused approximately 25% of booking cancellation\n",
    "\n",
    "\n",
    "\n",
    "- Room type 1 contributes to booking cancellation with up to 25%,  foolowed by room type 4\n",
    "\n",
    "\n",
    "\n",
    "- Lead time contribute to booking cancellation, the longer the lead time the higher in decline of numbers of booking\n",
    "\n",
    "\n",
    "\n",
    "- When no special request is made it contributes to booking cancellation\n",
    "\n",
    "\n",
    "\n",
    "- Customers don't usually other meal plan 3, in a case where only meal plan 3 is available at the moment customers may be forced to cancel their bookings especially if they are stay for more than 1 night.\n",
    "\n",
    "\n",
    "\n",
    "- customers that doesn't require car parking space, contribute to booking cancellation by 32.4%\n"
   ]
  },
  {
   "cell_type": "markdown",
   "id": "cf63b94e-a6ec-4f4b-9db4-2e416294477b",
   "metadata": {},
   "source": [
    "No, cancellation are not more likely during the weekend compare to the likelyhood during the week"
   ]
  },
  {
   "cell_type": "markdown",
   "id": "8f0ad3d6-f3c1-45fb-bebb-8c469de7897c",
   "metadata": {},
   "source": [
    "**General Recommendations**\n",
    "\n",
    "- Development of booking cancellation policy which must be strictly adhere to, so customers don't get comfortable canceling their booking with no tangible reason\n",
    "\n",
    "\n",
    "- constantly getting feedback from customers to improve hotel services, this gives insight on what the customers expected from the hotel\n",
    "\n",
    "\n",
    "- Taking complete payment at the time of booking, by doing this the hotel won't run at loss even if the customer didn't show up or decided to cancel the booking.\n",
    "\n",
    "\n",
    "- Send bookings reminder such as email\n",
    "\n",
    "\n",
    "- Getting in touch with customers as soon as they don't show up or cancel to their booking so as to find out possible reasons and ways to heelp them out\n",
    "\n",
    "\n",
    "\n",
    "since room type 1 is mostly booked, features or decoration of room type 1 should be included in other rooms since it what customers preferred the most. In a situation where room type one has been booked and another customer  also wish to book room type 1 since it's no longer available the customers may decided to cancel the booking, but if other room types has room type one features it might be easy to convince the customer to make a substitution.\n",
    "\n"
   ]
  }
 ],
 "metadata": {
  "colab": {
   "name": "Welcome to DataCamp Workspaces.ipynb",
   "provenance": []
  },
  "kernelspec": {
   "display_name": "Python 3 (ipykernel)",
   "language": "python",
   "name": "python3"
  },
  "language_info": {
   "codemirror_mode": {
    "name": "ipython",
    "version": 3
   },
   "file_extension": ".py",
   "mimetype": "text/x-python",
   "name": "python",
   "nbconvert_exporter": "python",
   "pygments_lexer": "ipython3",
   "version": "3.12.1"
  }
 },
 "nbformat": 4,
 "nbformat_minor": 5
}
